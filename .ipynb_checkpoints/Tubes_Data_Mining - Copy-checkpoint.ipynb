{
 "cells": [
  {
   "cell_type": "markdown",
   "metadata": {
    "id": "h-RTQkqj2TZH"
   },
   "source": [
    "# Klasifikasi Kualitas Air untuk menentukan layak dan tidak layaknya air untuk di konsumsi"
   ]
  },
  {
   "cell_type": "markdown",
   "metadata": {
    "id": "bQvpMN2NPL_A"
   },
   "source": [
    "**B. Tahap Preprocessing**\n",
    "\n",
    "\n",
    "\n",
    "1.   Cek data duplikat\n",
    "2.   Handling missing value\n",
    "3.   Handling Outliers\n",
    "4.   Normalisasi\n",
    "\n"
   ]
  },
  {
   "cell_type": "code",
   "execution_count": 1,
   "metadata": {
    "colab": {
     "base_uri": "https://localhost:8080/"
    },
    "id": "ZPyDBBjKkbgf",
    "outputId": "53d73e08-4125-4cc5-fcbc-90fca131629c"
   },
   "outputs": [
    {
     "name": "stdout",
     "output_type": "stream",
     "text": [
      "Requirement already satisfied: scikit-learn-extra in c:\\python311\\lib\\site-packages (0.3.0)Note: you may need to restart the kernel to use updated packages.\n",
      "\n",
      "Requirement already satisfied: numpy>=1.13.3 in c:\\python311\\lib\\site-packages (from scikit-learn-extra) (1.24.3)\n",
      "Requirement already satisfied: scipy>=0.19.1 in c:\\python311\\lib\\site-packages (from scikit-learn-extra) (1.10.1)\n",
      "Requirement already satisfied: scikit-learn>=0.23.0 in c:\\python311\\lib\\site-packages (from scikit-learn-extra) (1.2.2)\n",
      "Requirement already satisfied: joblib>=1.1.1 in c:\\python311\\lib\\site-packages (from scikit-learn>=0.23.0->scikit-learn-extra) (1.2.0)\n",
      "Requirement already satisfied: threadpoolctl>=2.0.0 in c:\\python311\\lib\\site-packages (from scikit-learn>=0.23.0->scikit-learn-extra) (3.1.0)\n"
     ]
    }
   ],
   "source": [
    "pip install scikit-learn-extra"
   ]
  },
  {
   "cell_type": "code",
   "execution_count": 2,
   "metadata": {
    "colab": {
     "base_uri": "https://localhost:8080/"
    },
    "id": "KsLK_AavlY3f",
    "outputId": "14ce331f-4db3-4e56-d5f6-098708d7a462"
   },
   "outputs": [
    {
     "name": "stdout",
     "output_type": "stream",
     "text": [
      "Requirement already satisfied: scikit-learn-extra in c:\\python311\\lib\\site-packages (0.3.0)\n",
      "Requirement already satisfied: numpy>=1.13.3 in c:\\python311\\lib\\site-packages (from scikit-learn-extra) (1.24.3)\n",
      "Requirement already satisfied: scipy>=0.19.1 in c:\\python311\\lib\\site-packages (from scikit-learn-extra) (1.10.1)\n",
      "Requirement already satisfied: scikit-learn>=0.23.0 in c:\\python311\\lib\\site-packages (from scikit-learn-extra) (1.2.2)\n",
      "Requirement already satisfied: joblib>=1.1.1 in c:\\python311\\lib\\site-packages (from scikit-learn>=0.23.0->scikit-learn-extra) (1.2.0)\n",
      "Requirement already satisfied: threadpoolctl>=2.0.0 in c:\\python311\\lib\\site-packages (from scikit-learn>=0.23.0->scikit-learn-extra) (3.1.0)\n",
      "Note: you may need to restart the kernel to use updated packages.\n"
     ]
    }
   ],
   "source": [
    "pip install scikit-learn-extra"
   ]
  },
  {
   "cell_type": "code",
   "execution_count": 4,
   "metadata": {
    "id": "ctWBjYkYXGUZ"
   },
   "outputs": [],
   "source": [
    "import pandas as pd\n",
    "import numpy as np\n",
    "import matplotlib.pyplot as plt\n",
    "import seaborn as sns\n",
    "from sklearn.model_selection import train_test_split, cross_val_score, RandomizedSearchCV, GridSearchCV\n",
    "from sklearn.metrics import confusion_matrix, classification_report\n",
    "from sklearn.preprocessing import StandardScaler, MinMaxScaler"
   ]
  },
  {
   "cell_type": "code",
   "execution_count": 5,
   "metadata": {
    "colab": {
     "base_uri": "https://localhost:8080/"
    },
    "id": "_AaZ2lIIXV7z",
    "outputId": "c2638e10-1afc-4979-ed75-921c12b236dc"
   },
   "outputs": [
    {
     "name": "stdout",
     "output_type": "stream",
     "text": [
      "            ph    Hardness        Solids  Chloramines     Sulfate  \\\n",
      "0          NaN  204.890455  20791.318981     7.300212  368.516441   \n",
      "1     3.716080  129.422921  18630.057858     6.635246         NaN   \n",
      "2     8.099124  224.236259  19909.541732     9.275884         NaN   \n",
      "3     8.316766  214.373394  22018.417441     8.059332  356.886136   \n",
      "4     9.092223  181.101509  17978.986339     6.546600  310.135738   \n",
      "...        ...         ...           ...          ...         ...   \n",
      "3271  4.668102  193.681735  47580.991603     7.166639  359.948574   \n",
      "3272  7.808856  193.553212  17329.802160     8.061362         NaN   \n",
      "3273  9.419510  175.762646  33155.578218     7.350233         NaN   \n",
      "3274  5.126763  230.603758  11983.869376     6.303357         NaN   \n",
      "3275  7.874671  195.102299  17404.177061     7.509306         NaN   \n",
      "\n",
      "      Conductivity  Organic_carbon  Trihalomethanes  Turbidity  Potability  \n",
      "0       564.308654       10.379783        86.990970   2.963135           0  \n",
      "1       592.885359       15.180013        56.329076   4.500656           0  \n",
      "2       418.606213       16.868637        66.420093   3.055934           0  \n",
      "3       363.266516       18.436524       100.341674   4.628771           0  \n",
      "4       398.410813       11.558279        31.997993   4.075075           0  \n",
      "...            ...             ...              ...        ...         ...  \n",
      "3271    526.424171       13.894419        66.687695   4.435821           1  \n",
      "3272    392.449580       19.903225              NaN   2.798243           1  \n",
      "3273    432.044783       11.039070        69.845400   3.298875           1  \n",
      "3274    402.883113       11.168946        77.488213   4.708658           1  \n",
      "3275    327.459760       16.140368        78.698446   2.309149           1  \n",
      "\n",
      "[3276 rows x 10 columns]\n"
     ]
    }
   ],
   "source": [
    "# Baca data file csv\n",
    "data = pd.read_csv('water_potability.csv')\n",
    "print(data)"
   ]
  },
  {
   "cell_type": "code",
   "execution_count": 6,
   "metadata": {
    "colab": {
     "base_uri": "https://localhost:8080/"
    },
    "id": "WGiVUaIBNMUp",
    "outputId": "06236e52-ec2c-48d7-8602-5236209d22e9"
   },
   "outputs": [
    {
     "data": {
      "text/plain": [
       "ph                 float64\n",
       "Hardness           float64\n",
       "Solids             float64\n",
       "Chloramines        float64\n",
       "Sulfate            float64\n",
       "Conductivity       float64\n",
       "Organic_carbon     float64\n",
       "Trihalomethanes    float64\n",
       "Turbidity          float64\n",
       "Potability           int64\n",
       "dtype: object"
      ]
     },
     "execution_count": 6,
     "metadata": {},
     "output_type": "execute_result"
    }
   ],
   "source": [
    "data.dtypes"
   ]
  },
  {
   "cell_type": "code",
   "execution_count": 7,
   "metadata": {
    "id": "34WlJ4cldJw8"
   },
   "outputs": [],
   "source": [
    "def pieChartPlotter(dataset, columnName):\n",
    "    values = dataset[columnName].value_counts()\n",
    "    labels = dataset[columnName].unique()\n",
    "    pie, ax = plt.subplots(figsize=[10, 6])\n",
    "\n",
    "    patches, texts, autotexts = ax.pie(values, labels=labels, autopct='%1.2f%%', shadow=True, pctdistance=.5,explode=[0.06]*dataset[columnName].unique()\n",
    "                                       )\n",
    "\n",
    "    plt.legend(patches, labels, loc=\"best\")\n",
    "    plt.title(columnName, color='white', fontsize=14)\n",
    "    plt.setp(texts, color='white', fontsize=20)\n",
    "    plt.setp(autotexts, size=10, color='black')\n",
    "    autotexts[1].set_color('black')\n",
    "    plt.axis('equal')\n",
    "    plt.tight_layout()\n",
    "    plt.show()"
   ]
  },
  {
   "cell_type": "code",
   "execution_count": null,
   "metadata": {
    "colab": {
     "base_uri": "https://localhost:8080/",
     "height": 441
    },
    "id": "w2svbirudKnZ",
    "outputId": "bfd49495-a105-4c78-b9d3-5dc9739ddc29"
   },
   "outputs": [
    {
     "data": {
      "image/png": "[encoded data removed]",
      "text/plain": [
       "<Figure size 720x432 with 1 Axes>"
      ]
     },
     "metadata": {
      "tags": []
     },
     "output_type": "display_data"
    }
   ],
   "source": [
    "pieChartPlotter(data, 'Potability') "
   ]
  },
  {
   "cell_type": "code",
   "execution_count": 8,
   "metadata": {
    "colab": {
     "base_uri": "https://localhost:8080/"
    },
    "id": "k0-8sYcjcPg9",
    "outputId": "476fb86c-e986-4b39-f4ac-8fb35df070c8"
   },
   "outputs": [
    {
     "data": {
      "text/plain": [
       "0       False\n",
       "1       False\n",
       "2       False\n",
       "3       False\n",
       "4       False\n",
       "        ...  \n",
       "3271    False\n",
       "3272    False\n",
       "3273    False\n",
       "3274    False\n",
       "3275    False\n",
       "Length: 3276, dtype: bool"
      ]
     },
     "execution_count": 8,
     "metadata": {},
     "output_type": "execute_result"
    }
   ],
   "source": [
    "#Cek data duplikat\n",
    "data_double = data.duplicated(subset=None, keep=False)\n",
    "(data_double)"
   ]
  },
  {
   "cell_type": "code",
   "execution_count": 9,
   "metadata": {
    "colab": {
     "base_uri": "https://localhost:8080/",
     "height": 419
    },
    "id": "MufpxaXldIKS",
    "outputId": "6ff407a2-36eb-46c5-e0de-09d05778f63a"
   },
   "outputs": [
    {
     "data": {
      "text/html": [
       "<div>\n",
       "<style scoped>\n",
       "    .dataframe tbody tr th:only-of-type {\n",
       "        vertical-align: middle;\n",
       "    }\n",
       "\n",
       "    .dataframe tbody tr th {\n",
       "        vertical-align: top;\n",
       "    }\n",
       "\n",
       "    .dataframe thead th {\n",
       "        text-align: right;\n",
       "    }\n",
       "</style>\n",
       "<table border=\"1\" class=\"dataframe\">\n",
       "  <thead>\n",
       "    <tr style=\"text-align: right;\">\n",
       "      <th></th>\n",
       "      <th>ph</th>\n",
       "      <th>Hardness</th>\n",
       "      <th>Solids</th>\n",
       "      <th>Chloramines</th>\n",
       "      <th>Sulfate</th>\n",
       "      <th>Conductivity</th>\n",
       "      <th>Organic_carbon</th>\n",
       "      <th>Trihalomethanes</th>\n",
       "      <th>Turbidity</th>\n",
       "      <th>Potability</th>\n",
       "      <th>hasil</th>\n",
       "    </tr>\n",
       "  </thead>\n",
       "  <tbody>\n",
       "    <tr>\n",
       "      <th>0</th>\n",
       "      <td>NaN</td>\n",
       "      <td>204.890455</td>\n",
       "      <td>20791.318981</td>\n",
       "      <td>7.300212</td>\n",
       "      <td>368.516441</td>\n",
       "      <td>564.308654</td>\n",
       "      <td>10.379783</td>\n",
       "      <td>86.990970</td>\n",
       "      <td>2.963135</td>\n",
       "      <td>0</td>\n",
       "      <td>False</td>\n",
       "    </tr>\n",
       "    <tr>\n",
       "      <th>1</th>\n",
       "      <td>3.716080</td>\n",
       "      <td>129.422921</td>\n",
       "      <td>18630.057858</td>\n",
       "      <td>6.635246</td>\n",
       "      <td>NaN</td>\n",
       "      <td>592.885359</td>\n",
       "      <td>15.180013</td>\n",
       "      <td>56.329076</td>\n",
       "      <td>4.500656</td>\n",
       "      <td>0</td>\n",
       "      <td>False</td>\n",
       "    </tr>\n",
       "    <tr>\n",
       "      <th>2</th>\n",
       "      <td>8.099124</td>\n",
       "      <td>224.236259</td>\n",
       "      <td>19909.541732</td>\n",
       "      <td>9.275884</td>\n",
       "      <td>NaN</td>\n",
       "      <td>418.606213</td>\n",
       "      <td>16.868637</td>\n",
       "      <td>66.420093</td>\n",
       "      <td>3.055934</td>\n",
       "      <td>0</td>\n",
       "      <td>False</td>\n",
       "    </tr>\n",
       "    <tr>\n",
       "      <th>3</th>\n",
       "      <td>8.316766</td>\n",
       "      <td>214.373394</td>\n",
       "      <td>22018.417441</td>\n",
       "      <td>8.059332</td>\n",
       "      <td>356.886136</td>\n",
       "      <td>363.266516</td>\n",
       "      <td>18.436524</td>\n",
       "      <td>100.341674</td>\n",
       "      <td>4.628771</td>\n",
       "      <td>0</td>\n",
       "      <td>False</td>\n",
       "    </tr>\n",
       "    <tr>\n",
       "      <th>4</th>\n",
       "      <td>9.092223</td>\n",
       "      <td>181.101509</td>\n",
       "      <td>17978.986339</td>\n",
       "      <td>6.546600</td>\n",
       "      <td>310.135738</td>\n",
       "      <td>398.410813</td>\n",
       "      <td>11.558279</td>\n",
       "      <td>31.997993</td>\n",
       "      <td>4.075075</td>\n",
       "      <td>0</td>\n",
       "      <td>False</td>\n",
       "    </tr>\n",
       "    <tr>\n",
       "      <th>...</th>\n",
       "      <td>...</td>\n",
       "      <td>...</td>\n",
       "      <td>...</td>\n",
       "      <td>...</td>\n",
       "      <td>...</td>\n",
       "      <td>...</td>\n",
       "      <td>...</td>\n",
       "      <td>...</td>\n",
       "      <td>...</td>\n",
       "      <td>...</td>\n",
       "      <td>...</td>\n",
       "    </tr>\n",
       "    <tr>\n",
       "      <th>3271</th>\n",
       "      <td>4.668102</td>\n",
       "      <td>193.681735</td>\n",
       "      <td>47580.991603</td>\n",
       "      <td>7.166639</td>\n",
       "      <td>359.948574</td>\n",
       "      <td>526.424171</td>\n",
       "      <td>13.894419</td>\n",
       "      <td>66.687695</td>\n",
       "      <td>4.435821</td>\n",
       "      <td>1</td>\n",
       "      <td>False</td>\n",
       "    </tr>\n",
       "    <tr>\n",
       "      <th>3272</th>\n",
       "      <td>7.808856</td>\n",
       "      <td>193.553212</td>\n",
       "      <td>17329.802160</td>\n",
       "      <td>8.061362</td>\n",
       "      <td>NaN</td>\n",
       "      <td>392.449580</td>\n",
       "      <td>19.903225</td>\n",
       "      <td>NaN</td>\n",
       "      <td>2.798243</td>\n",
       "      <td>1</td>\n",
       "      <td>False</td>\n",
       "    </tr>\n",
       "    <tr>\n",
       "      <th>3273</th>\n",
       "      <td>9.419510</td>\n",
       "      <td>175.762646</td>\n",
       "      <td>33155.578218</td>\n",
       "      <td>7.350233</td>\n",
       "      <td>NaN</td>\n",
       "      <td>432.044783</td>\n",
       "      <td>11.039070</td>\n",
       "      <td>69.845400</td>\n",
       "      <td>3.298875</td>\n",
       "      <td>1</td>\n",
       "      <td>False</td>\n",
       "    </tr>\n",
       "    <tr>\n",
       "      <th>3274</th>\n",
       "      <td>5.126763</td>\n",
       "      <td>230.603758</td>\n",
       "      <td>11983.869376</td>\n",
       "      <td>6.303357</td>\n",
       "      <td>NaN</td>\n",
       "      <td>402.883113</td>\n",
       "      <td>11.168946</td>\n",
       "      <td>77.488213</td>\n",
       "      <td>4.708658</td>\n",
       "      <td>1</td>\n",
       "      <td>False</td>\n",
       "    </tr>\n",
       "    <tr>\n",
       "      <th>3275</th>\n",
       "      <td>7.874671</td>\n",
       "      <td>195.102299</td>\n",
       "      <td>17404.177061</td>\n",
       "      <td>7.509306</td>\n",
       "      <td>NaN</td>\n",
       "      <td>327.459760</td>\n",
       "      <td>16.140368</td>\n",
       "      <td>78.698446</td>\n",
       "      <td>2.309149</td>\n",
       "      <td>1</td>\n",
       "      <td>False</td>\n",
       "    </tr>\n",
       "  </tbody>\n",
       "</table>\n",
       "<p>3276 rows × 11 columns</p>\n",
       "</div>"
      ],
      "text/plain": [
       "            ph    Hardness        Solids  Chloramines     Sulfate  \\\n",
       "0          NaN  204.890455  20791.318981     7.300212  368.516441   \n",
       "1     3.716080  129.422921  18630.057858     6.635246         NaN   \n",
       "2     8.099124  224.236259  19909.541732     9.275884         NaN   \n",
       "3     8.316766  214.373394  22018.417441     8.059332  356.886136   \n",
       "4     9.092223  181.101509  17978.986339     6.546600  310.135738   \n",
       "...        ...         ...           ...          ...         ...   \n",
       "3271  4.668102  193.681735  47580.991603     7.166639  359.948574   \n",
       "3272  7.808856  193.553212  17329.802160     8.061362         NaN   \n",
       "3273  9.419510  175.762646  33155.578218     7.350233         NaN   \n",
       "3274  5.126763  230.603758  11983.869376     6.303357         NaN   \n",
       "3275  7.874671  195.102299  17404.177061     7.509306         NaN   \n",
       "\n",
       "      Conductivity  Organic_carbon  Trihalomethanes  Turbidity  Potability  \\\n",
       "0       564.308654       10.379783        86.990970   2.963135           0   \n",
       "1       592.885359       15.180013        56.329076   4.500656           0   \n",
       "2       418.606213       16.868637        66.420093   3.055934           0   \n",
       "3       363.266516       18.436524       100.341674   4.628771           0   \n",
       "4       398.410813       11.558279        31.997993   4.075075           0   \n",
       "...            ...             ...              ...        ...         ...   \n",
       "3271    526.424171       13.894419        66.687695   4.435821           1   \n",
       "3272    392.449580       19.903225              NaN   2.798243           1   \n",
       "3273    432.044783       11.039070        69.845400   3.298875           1   \n",
       "3274    402.883113       11.168946        77.488213   4.708658           1   \n",
       "3275    327.459760       16.140368        78.698446   2.309149           1   \n",
       "\n",
       "      hasil  \n",
       "0     False  \n",
       "1     False  \n",
       "2     False  \n",
       "3     False  \n",
       "4     False  \n",
       "...     ...  \n",
       "3271  False  \n",
       "3272  False  \n",
       "3273  False  \n",
       "3274  False  \n",
       "3275  False  \n",
       "\n",
       "[3276 rows x 11 columns]"
      ]
     },
     "execution_count": 9,
     "metadata": {},
     "output_type": "execute_result"
    }
   ],
   "source": [
    "data_double2=data.copy()\n",
    "data_double2['hasil']=data.duplicated( subset=None, keep=False)\n",
    "data_double2\n"
   ]
  },
  {
   "cell_type": "markdown",
   "metadata": {
    "id": "gNCji1UFdv9C"
   },
   "source": [
    "Setelah pengecekan data duplikasi hasilnya tidak terdapat data yang duplikat"
   ]
  },
  {
   "cell_type": "code",
   "execution_count": 10,
   "metadata": {
    "colab": {
     "base_uri": "https://localhost:8080/"
    },
    "id": "3HB67xTeYZOM",
    "outputId": "c72f4778-e78e-45db-ba7e-966104938a8f"
   },
   "outputs": [
    {
     "data": {
      "text/plain": [
       "ph                 491\n",
       "Hardness             0\n",
       "Solids               0\n",
       "Chloramines          0\n",
       "Sulfate            781\n",
       "Conductivity         0\n",
       "Organic_carbon       0\n",
       "Trihalomethanes    162\n",
       "Turbidity            0\n",
       "Potability           0\n",
       "dtype: int64"
      ]
     },
     "execution_count": 10,
     "metadata": {},
     "output_type": "execute_result"
    }
   ],
   "source": [
    "#Cek apakah kolom pada dataset terdapat missing value\n",
    "data.isna().sum()"
   ]
  },
  {
   "cell_type": "markdown",
   "metadata": {
    "id": "Gguu_JzXY9Yg"
   },
   "source": [
    "Setelah dicek pada kolom pH , Sulfates dan Trihalomethanes terdapat missing value."
   ]
  },
  {
   "cell_type": "code",
   "execution_count": 11,
   "metadata": {
    "colab": {
     "base_uri": "https://localhost:8080/",
     "height": 297
    },
    "id": "9A18FJ-gYv1A",
    "outputId": "8773128d-0ff8-4af6-c64d-e41683174023"
   },
   "outputs": [
    {
     "data": {
      "text/html": [
       "<div>\n",
       "<style scoped>\n",
       "    .dataframe tbody tr th:only-of-type {\n",
       "        vertical-align: middle;\n",
       "    }\n",
       "\n",
       "    .dataframe tbody tr th {\n",
       "        vertical-align: top;\n",
       "    }\n",
       "\n",
       "    .dataframe thead th {\n",
       "        text-align: right;\n",
       "    }\n",
       "</style>\n",
       "<table border=\"1\" class=\"dataframe\">\n",
       "  <thead>\n",
       "    <tr style=\"text-align: right;\">\n",
       "      <th></th>\n",
       "      <th>ph</th>\n",
       "      <th>Hardness</th>\n",
       "      <th>Solids</th>\n",
       "      <th>Chloramines</th>\n",
       "      <th>Sulfate</th>\n",
       "      <th>Conductivity</th>\n",
       "      <th>Organic_carbon</th>\n",
       "      <th>Trihalomethanes</th>\n",
       "      <th>Turbidity</th>\n",
       "      <th>Potability</th>\n",
       "    </tr>\n",
       "  </thead>\n",
       "  <tbody>\n",
       "    <tr>\n",
       "      <th>count</th>\n",
       "      <td>2785.000000</td>\n",
       "      <td>3276.000000</td>\n",
       "      <td>3276.000000</td>\n",
       "      <td>3276.000000</td>\n",
       "      <td>2495.000000</td>\n",
       "      <td>3276.000000</td>\n",
       "      <td>3276.000000</td>\n",
       "      <td>3114.000000</td>\n",
       "      <td>3276.000000</td>\n",
       "      <td>3276.000000</td>\n",
       "    </tr>\n",
       "    <tr>\n",
       "      <th>mean</th>\n",
       "      <td>7.080795</td>\n",
       "      <td>196.369496</td>\n",
       "      <td>22014.092526</td>\n",
       "      <td>7.122277</td>\n",
       "      <td>333.775777</td>\n",
       "      <td>426.205111</td>\n",
       "      <td>14.284970</td>\n",
       "      <td>66.396293</td>\n",
       "      <td>3.966786</td>\n",
       "      <td>0.390110</td>\n",
       "    </tr>\n",
       "    <tr>\n",
       "      <th>std</th>\n",
       "      <td>1.594320</td>\n",
       "      <td>32.879761</td>\n",
       "      <td>8768.570828</td>\n",
       "      <td>1.583085</td>\n",
       "      <td>41.416840</td>\n",
       "      <td>80.824064</td>\n",
       "      <td>3.308162</td>\n",
       "      <td>16.175008</td>\n",
       "      <td>0.780382</td>\n",
       "      <td>0.487849</td>\n",
       "    </tr>\n",
       "    <tr>\n",
       "      <th>min</th>\n",
       "      <td>0.000000</td>\n",
       "      <td>47.432000</td>\n",
       "      <td>320.942611</td>\n",
       "      <td>0.352000</td>\n",
       "      <td>129.000000</td>\n",
       "      <td>181.483754</td>\n",
       "      <td>2.200000</td>\n",
       "      <td>0.738000</td>\n",
       "      <td>1.450000</td>\n",
       "      <td>0.000000</td>\n",
       "    </tr>\n",
       "    <tr>\n",
       "      <th>25%</th>\n",
       "      <td>6.093092</td>\n",
       "      <td>176.850538</td>\n",
       "      <td>15666.690297</td>\n",
       "      <td>6.127421</td>\n",
       "      <td>307.699498</td>\n",
       "      <td>365.734414</td>\n",
       "      <td>12.065801</td>\n",
       "      <td>55.844536</td>\n",
       "      <td>3.439711</td>\n",
       "      <td>0.000000</td>\n",
       "    </tr>\n",
       "    <tr>\n",
       "      <th>50%</th>\n",
       "      <td>7.036752</td>\n",
       "      <td>196.967627</td>\n",
       "      <td>20927.833607</td>\n",
       "      <td>7.130299</td>\n",
       "      <td>333.073546</td>\n",
       "      <td>421.884968</td>\n",
       "      <td>14.218338</td>\n",
       "      <td>66.622485</td>\n",
       "      <td>3.955028</td>\n",
       "      <td>0.000000</td>\n",
       "    </tr>\n",
       "    <tr>\n",
       "      <th>75%</th>\n",
       "      <td>8.062066</td>\n",
       "      <td>216.667456</td>\n",
       "      <td>27332.762127</td>\n",
       "      <td>8.114887</td>\n",
       "      <td>359.950170</td>\n",
       "      <td>481.792304</td>\n",
       "      <td>16.557652</td>\n",
       "      <td>77.337473</td>\n",
       "      <td>4.500320</td>\n",
       "      <td>1.000000</td>\n",
       "    </tr>\n",
       "    <tr>\n",
       "      <th>max</th>\n",
       "      <td>14.000000</td>\n",
       "      <td>323.124000</td>\n",
       "      <td>61227.196008</td>\n",
       "      <td>13.127000</td>\n",
       "      <td>481.030642</td>\n",
       "      <td>753.342620</td>\n",
       "      <td>28.300000</td>\n",
       "      <td>124.000000</td>\n",
       "      <td>6.739000</td>\n",
       "      <td>1.000000</td>\n",
       "    </tr>\n",
       "  </tbody>\n",
       "</table>\n",
       "</div>"
      ],
      "text/plain": [
       "                ph     Hardness        Solids  Chloramines      Sulfate  \\\n",
       "count  2785.000000  3276.000000   3276.000000  3276.000000  2495.000000   \n",
       "mean      7.080795   196.369496  22014.092526     7.122277   333.775777   \n",
       "std       1.594320    32.879761   8768.570828     1.583085    41.416840   \n",
       "min       0.000000    47.432000    320.942611     0.352000   129.000000   \n",
       "25%       6.093092   176.850538  15666.690297     6.127421   307.699498   \n",
       "50%       7.036752   196.967627  20927.833607     7.130299   333.073546   \n",
       "75%       8.062066   216.667456  27332.762127     8.114887   359.950170   \n",
       "max      14.000000   323.124000  61227.196008    13.127000   481.030642   \n",
       "\n",
       "       Conductivity  Organic_carbon  Trihalomethanes    Turbidity   Potability  \n",
       "count   3276.000000     3276.000000      3114.000000  3276.000000  3276.000000  \n",
       "mean     426.205111       14.284970        66.396293     3.966786     0.390110  \n",
       "std       80.824064        3.308162        16.175008     0.780382     0.487849  \n",
       "min      181.483754        2.200000         0.738000     1.450000     0.000000  \n",
       "25%      365.734414       12.065801        55.844536     3.439711     0.000000  \n",
       "50%      421.884968       14.218338        66.622485     3.955028     0.000000  \n",
       "75%      481.792304       16.557652        77.337473     4.500320     1.000000  \n",
       "max      753.342620       28.300000       124.000000     6.739000     1.000000  "
      ]
     },
     "execution_count": 11,
     "metadata": {},
     "output_type": "execute_result"
    }
   ],
   "source": [
    "# Melihat karakteristik pada setiap kolom\n",
    "data.describe()"
   ]
  },
  {
   "cell_type": "markdown",
   "metadata": {
    "id": "U6LFOqnka4qk"
   },
   "source": [
    "Kemudian dilakukan handling missing value menggunakan nilai rata rata"
   ]
  },
  {
   "cell_type": "code",
   "execution_count": 17,
   "metadata": {
    "id": "dTlonbBWZrmK"
   },
   "outputs": [],
   "source": [
    "data['ph'] = data['ph'].fillna(data['ph'].mean())\n",
    "data['Sulfate'] = data['Sulfate'].fillna(data['Sulfate'].mean())\n",
    "data['Trihalomethanes'] = data['Trihalomethanes'].fillna(data['Trihalomethanes'].mean())"
   ]
  },
  {
   "cell_type": "markdown",
   "metadata": {
    "id": "hte6brt6bvB1"
   },
   "source": [
    "Kemudian dicek kembali apakah imputation missing value berhasil"
   ]
  },
  {
   "cell_type": "code",
   "execution_count": 19,
   "metadata": {
    "colab": {
     "base_uri": "https://localhost:8080/"
    },
    "id": "scfuEIfoYscN",
    "outputId": "8ff43c72-0acc-485e-9e08-b9f85c7513a7"
   },
   "outputs": [
    {
     "data": {
      "text/plain": [
       "ph                 0\n",
       "Hardness           0\n",
       "Solids             0\n",
       "Chloramines        0\n",
       "Sulfate            0\n",
       "Conductivity       0\n",
       "Organic_carbon     0\n",
       "Trihalomethanes    0\n",
       "Turbidity          0\n",
       "Potability         0\n",
       "dtype: int64"
      ]
     },
     "execution_count": 19,
     "metadata": {},
     "output_type": "execute_result"
    }
   ],
   "source": [
    "data.isna().sum()"
   ]
  },
  {
   "cell_type": "code",
   "execution_count": 20,
   "metadata": {
    "colab": {
     "base_uri": "https://localhost:8080/",
     "height": 1000
    },
    "id": "20fYJ6Yy5qwm",
    "outputId": "931754dc-44ba-48dc-d02f-386921034974"
   },
   "outputs": [
    {
     "data": {
      "image/png": "[encoded data removed]",
      "text/plain": [
       "<Figure size 2000x2000 with 10 Axes>"
      ]
     },
     "metadata": {},
     "output_type": "display_data"
    }
   ],
   "source": [
    "#Melihat data outliers\n",
    "plt.figure(figsize=(20,20))\n",
    "for i,column in enumerate(data.columns,1):\n",
    "    plt.subplot(5,2,i)\n",
    "    sns.boxplot(data = data,x = data[column],orient = 'h')\n",
    "plt.show()"
   ]
  },
  {
   "cell_type": "markdown",
   "metadata": {
    "id": "rokjZ9hJjxDs"
   },
   "source": [
    "Pencilan pencilan data dibersihkan berdasarkan nilai yang lebih besar dari (Q3 + 1.5*IQR) atau lebih kecil dari (Q1–1.5*IQR). "
   ]
  },
  {
   "cell_type": "code",
   "execution_count": 23,
   "metadata": {
    "id": "oKvIOWO9jOnv"
   },
   "outputs": [],
   "source": [
    "#fungsi untuk menentukan index nilai yang outliers\n",
    "def outliers(df_in, col_name):\n",
    "  q1 = df_in[col_name].quantile(0.25)\n",
    "  q3 = df_in[col_name].quantile(0.75)\n",
    "  iqr = q3-q1 #Interquartile range\n",
    "  fence_low = q1-1.5*iqr\n",
    "  fence_high = q3+1.5*iqr\n",
    "  df_out = df_in.index[(df_in[col_name] < fence_low) | (df_in[col_name] > fence_high)]\n",
    "  return df_out\n"
   ]
  },
  {
   "cell_type": "code",
   "execution_count": 24,
   "metadata": {
    "id": "aTHmJJPTj2CZ"
   },
   "outputs": [],
   "source": [
    "#menghapus data baris yg outliers pada Kolom ph\n",
    "index_list = []\n",
    "index_list.extend(outliers(data, \"ph\"))\n",
    "data.drop(index_list, axis = 0, inplace=True)\n",
    "#menghapus data baris yg outliers pada Kolom Hardness\n",
    "index_list = []\n",
    "index_list.extend(outliers(data, \"Hardness\"))\n",
    "data.drop(index_list, axis = 0, inplace=True)\n",
    "#menghapus data baris yg outliers pada Kolom Solids\n",
    "index_list = []\n",
    "index_list.extend(outliers(data, \"Solids\"))\n",
    "data.drop(index_list, axis = 0, inplace=True)\n",
    "#menghapus data baris yg outliers pada Kolom Chloramines\n",
    "index_list = []\n",
    "index_list.extend(outliers(data, \"Chloramines\"))\n",
    "data.drop(index_list, axis = 0, inplace=True)\n",
    "#menghapus data baris yg outliers pada Kolom Sulfate\n",
    "index_list = []\n",
    "index_list.extend(outliers(data, \"Sulfate\"))\n",
    "data.drop(index_list, axis = 0, inplace=True)\n",
    "#menghapus data baris yg outliers pada Kolom Conductivity\n",
    "index_list = []\n",
    "index_list.extend(outliers(data, \"Conductivity\"))\n",
    "data.drop(index_list, axis = 0, inplace=True)\n",
    "#menghapus data baris yg outliers pada Kolom Organic_carbon\n",
    "index_list = []\n",
    "index_list.extend(outliers(data, \"Organic_carbon\"))\n",
    "data.drop(index_list, axis = 0, inplace=True)\n",
    "#menghapus data baris yg outliers pada Kolom Trihalomethanes\n",
    "index_list = []\n",
    "index_list.extend(outliers(data, \"Trihalomethanes\"))\n",
    "data.drop(index_list, axis = 0, inplace=True)\n",
    "#menghapus data baris yg outliers pada Kolom Turbidity\n",
    "index_list = []\n",
    "index_list.extend(outliers(data, \"Turbidity\"))\n",
    "data.drop(index_list, axis = 0, inplace=True)"
   ]
  },
  {
   "cell_type": "code",
   "execution_count": 25,
   "metadata": {
    "colab": {
     "base_uri": "https://localhost:8080/",
     "height": 1000
    },
    "id": "WURfnW66kzsA",
    "outputId": "c804c5c8-6683-4293-cee4-b5f9f959f342"
   },
   "outputs": [
    {
     "data": {
      "image/png": "[encoded data removed]",
      "text/plain": [
       "<Figure size 2000x2000 with 10 Axes>"
      ]
     },
     "metadata": {},
     "output_type": "display_data"
    }
   ],
   "source": [
    "#Cek kemabli outliers\n",
    "#Melihat data outliers\n",
    "plt.figure(figsize=(20,20))\n",
    "for i,column in enumerate(data.columns,1):\n",
    "    plt.subplot(5,2,i)\n",
    "    sns.boxplot(data = data,x = data[column],orient = 'h')\n",
    "plt.show()"
   ]
  },
  {
   "cell_type": "code",
   "execution_count": 26,
   "metadata": {
    "colab": {
     "base_uri": "https://localhost:8080/",
     "height": 297
    },
    "id": "0ukgoBCVlCn8",
    "outputId": "e6403a52-d68f-4e32-eb96-7046f28a8fe8"
   },
   "outputs": [
    {
     "data": {
      "text/html": [
       "<div>\n",
       "<style scoped>\n",
       "    .dataframe tbody tr th:only-of-type {\n",
       "        vertical-align: middle;\n",
       "    }\n",
       "\n",
       "    .dataframe tbody tr th {\n",
       "        vertical-align: top;\n",
       "    }\n",
       "\n",
       "    .dataframe thead th {\n",
       "        text-align: right;\n",
       "    }\n",
       "</style>\n",
       "<table border=\"1\" class=\"dataframe\">\n",
       "  <thead>\n",
       "    <tr style=\"text-align: right;\">\n",
       "      <th></th>\n",
       "      <th>ph</th>\n",
       "      <th>Hardness</th>\n",
       "      <th>Solids</th>\n",
       "      <th>Chloramines</th>\n",
       "      <th>Sulfate</th>\n",
       "      <th>Conductivity</th>\n",
       "      <th>Organic_carbon</th>\n",
       "      <th>Trihalomethanes</th>\n",
       "      <th>Turbidity</th>\n",
       "      <th>Potability</th>\n",
       "    </tr>\n",
       "  </thead>\n",
       "  <tbody>\n",
       "    <tr>\n",
       "      <th>count</th>\n",
       "      <td>2437.000000</td>\n",
       "      <td>2437.000000</td>\n",
       "      <td>2437.000000</td>\n",
       "      <td>2437.000000</td>\n",
       "      <td>2437.000000</td>\n",
       "      <td>2437.000000</td>\n",
       "      <td>2437.000000</td>\n",
       "      <td>2437.000000</td>\n",
       "      <td>2437.000000</td>\n",
       "      <td>2437.000000</td>\n",
       "    </tr>\n",
       "    <tr>\n",
       "      <th>mean</th>\n",
       "      <td>7.077563</td>\n",
       "      <td>196.945270</td>\n",
       "      <td>21466.145936</td>\n",
       "      <td>7.106368</td>\n",
       "      <td>333.788647</td>\n",
       "      <td>425.870650</td>\n",
       "      <td>14.319169</td>\n",
       "      <td>66.314711</td>\n",
       "      <td>3.964947</td>\n",
       "      <td>0.370127</td>\n",
       "    </tr>\n",
       "    <tr>\n",
       "      <th>std</th>\n",
       "      <td>1.145293</td>\n",
       "      <td>26.942320</td>\n",
       "      <td>7788.659852</td>\n",
       "      <td>1.371485</td>\n",
       "      <td>23.343896</td>\n",
       "      <td>79.653658</td>\n",
       "      <td>3.212487</td>\n",
       "      <td>14.915928</td>\n",
       "      <td>0.763985</td>\n",
       "      <td>0.482938</td>\n",
       "    </tr>\n",
       "    <tr>\n",
       "      <th>min</th>\n",
       "      <td>4.197584</td>\n",
       "      <td>124.847992</td>\n",
       "      <td>320.942611</td>\n",
       "      <td>3.440880</td>\n",
       "      <td>278.250436</td>\n",
       "      <td>201.619737</td>\n",
       "      <td>5.426650</td>\n",
       "      <td>27.559355</td>\n",
       "      <td>1.872573</td>\n",
       "      <td>0.000000</td>\n",
       "    </tr>\n",
       "    <tr>\n",
       "      <th>25%</th>\n",
       "      <td>6.376576</td>\n",
       "      <td>179.397232</td>\n",
       "      <td>15658.086280</td>\n",
       "      <td>6.196947</td>\n",
       "      <td>321.250898</td>\n",
       "      <td>366.669512</td>\n",
       "      <td>12.094513</td>\n",
       "      <td>56.735187</td>\n",
       "      <td>3.439740</td>\n",
       "      <td>0.000000</td>\n",
       "    </tr>\n",
       "    <tr>\n",
       "      <th>50%</th>\n",
       "      <td>7.080795</td>\n",
       "      <td>197.517093</td>\n",
       "      <td>20590.712114</td>\n",
       "      <td>7.105204</td>\n",
       "      <td>333.775777</td>\n",
       "      <td>420.828362</td>\n",
       "      <td>14.233952</td>\n",
       "      <td>66.396293</td>\n",
       "      <td>3.954964</td>\n",
       "      <td>0.000000</td>\n",
       "    </tr>\n",
       "    <tr>\n",
       "      <th>75%</th>\n",
       "      <td>7.775386</td>\n",
       "      <td>215.047358</td>\n",
       "      <td>26744.231526</td>\n",
       "      <td>8.021803</td>\n",
       "      <td>346.075016</td>\n",
       "      <td>481.136793</td>\n",
       "      <td>16.579301</td>\n",
       "      <td>76.509996</td>\n",
       "      <td>4.500208</td>\n",
       "      <td>1.000000</td>\n",
       "    </tr>\n",
       "    <tr>\n",
       "      <th>max</th>\n",
       "      <td>9.953952</td>\n",
       "      <td>269.640378</td>\n",
       "      <td>43195.473668</td>\n",
       "      <td>10.810938</td>\n",
       "      <td>389.391148</td>\n",
       "      <td>652.537592</td>\n",
       "      <td>23.234326</td>\n",
       "      <td>106.243066</td>\n",
       "      <td>6.083772</td>\n",
       "      <td>1.000000</td>\n",
       "    </tr>\n",
       "  </tbody>\n",
       "</table>\n",
       "</div>"
      ],
      "text/plain": [
       "                ph     Hardness        Solids  Chloramines      Sulfate  \\\n",
       "count  2437.000000  2437.000000   2437.000000  2437.000000  2437.000000   \n",
       "mean      7.077563   196.945270  21466.145936     7.106368   333.788647   \n",
       "std       1.145293    26.942320   7788.659852     1.371485    23.343896   \n",
       "min       4.197584   124.847992    320.942611     3.440880   278.250436   \n",
       "25%       6.376576   179.397232  15658.086280     6.196947   321.250898   \n",
       "50%       7.080795   197.517093  20590.712114     7.105204   333.775777   \n",
       "75%       7.775386   215.047358  26744.231526     8.021803   346.075016   \n",
       "max       9.953952   269.640378  43195.473668    10.810938   389.391148   \n",
       "\n",
       "       Conductivity  Organic_carbon  Trihalomethanes    Turbidity   Potability  \n",
       "count   2437.000000     2437.000000      2437.000000  2437.000000  2437.000000  \n",
       "mean     425.870650       14.319169        66.314711     3.964947     0.370127  \n",
       "std       79.653658        3.212487        14.915928     0.763985     0.482938  \n",
       "min      201.619737        5.426650        27.559355     1.872573     0.000000  \n",
       "25%      366.669512       12.094513        56.735187     3.439740     0.000000  \n",
       "50%      420.828362       14.233952        66.396293     3.954964     0.000000  \n",
       "75%      481.136793       16.579301        76.509996     4.500208     1.000000  \n",
       "max      652.537592       23.234326       106.243066     6.083772     1.000000  "
      ]
     },
     "execution_count": 26,
     "metadata": {},
     "output_type": "execute_result"
    }
   ],
   "source": [
    "data.describe()"
   ]
  },
  {
   "cell_type": "markdown",
   "metadata": {
    "id": "g45cnZ9NkZFw"
   },
   "source": [
    "Langkah selanjutnya normalisasi dengan cara Scaling data dalam rentang [0,1] atau biasa disebut normalisasi min-max"
   ]
  },
  {
   "cell_type": "code",
   "execution_count": 27,
   "metadata": {
    "id": "q1dnCgUgltyM"
   },
   "outputs": [],
   "source": [
    "min_max_scaler = MinMaxScaler()\n",
    "for i in data:\n",
    "  data[[i]] = min_max_scaler.fit_transform(data[[i]])"
   ]
  },
  {
   "cell_type": "code",
   "execution_count": 28,
   "metadata": {
    "colab": {
     "base_uri": "https://localhost:8080/",
     "height": 297
    },
    "id": "oJ1KXxhEKNs8",
    "outputId": "d3cb0e6f-ceb4-48d2-c9b5-00ca598db9df"
   },
   "outputs": [
    {
     "data": {
      "text/html": [
       "<div>\n",
       "<style scoped>\n",
       "    .dataframe tbody tr th:only-of-type {\n",
       "        vertical-align: middle;\n",
       "    }\n",
       "\n",
       "    .dataframe tbody tr th {\n",
       "        vertical-align: top;\n",
       "    }\n",
       "\n",
       "    .dataframe thead th {\n",
       "        text-align: right;\n",
       "    }\n",
       "</style>\n",
       "<table border=\"1\" class=\"dataframe\">\n",
       "  <thead>\n",
       "    <tr style=\"text-align: right;\">\n",
       "      <th></th>\n",
       "      <th>ph</th>\n",
       "      <th>Hardness</th>\n",
       "      <th>Solids</th>\n",
       "      <th>Chloramines</th>\n",
       "      <th>Sulfate</th>\n",
       "      <th>Conductivity</th>\n",
       "      <th>Organic_carbon</th>\n",
       "      <th>Trihalomethanes</th>\n",
       "      <th>Turbidity</th>\n",
       "      <th>Potability</th>\n",
       "    </tr>\n",
       "  </thead>\n",
       "  <tbody>\n",
       "    <tr>\n",
       "      <th>count</th>\n",
       "      <td>2437.000000</td>\n",
       "      <td>2437.000000</td>\n",
       "      <td>2437.000000</td>\n",
       "      <td>2437.000000</td>\n",
       "      <td>2437.000000</td>\n",
       "      <td>2437.000000</td>\n",
       "      <td>2437.000000</td>\n",
       "      <td>2437.000000</td>\n",
       "      <td>2437.000000</td>\n",
       "      <td>2437.000000</td>\n",
       "    </tr>\n",
       "    <tr>\n",
       "      <th>mean</th>\n",
       "      <td>0.500312</td>\n",
       "      <td>0.497936</td>\n",
       "      <td>0.493188</td>\n",
       "      <td>0.497349</td>\n",
       "      <td>0.499711</td>\n",
       "      <td>0.497321</td>\n",
       "      <td>0.499364</td>\n",
       "      <td>0.492546</td>\n",
       "      <td>0.496859</td>\n",
       "      <td>0.370127</td>\n",
       "    </tr>\n",
       "    <tr>\n",
       "      <th>std</th>\n",
       "      <td>0.198961</td>\n",
       "      <td>0.186076</td>\n",
       "      <td>0.181662</td>\n",
       "      <td>0.186089</td>\n",
       "      <td>0.210039</td>\n",
       "      <td>0.176648</td>\n",
       "      <td>0.180399</td>\n",
       "      <td>0.189568</td>\n",
       "      <td>0.181417</td>\n",
       "      <td>0.482938</td>\n",
       "    </tr>\n",
       "    <tr>\n",
       "      <th>min</th>\n",
       "      <td>0.000000</td>\n",
       "      <td>0.000000</td>\n",
       "      <td>0.000000</td>\n",
       "      <td>0.000000</td>\n",
       "      <td>0.000000</td>\n",
       "      <td>0.000000</td>\n",
       "      <td>0.000000</td>\n",
       "      <td>0.000000</td>\n",
       "      <td>0.000000</td>\n",
       "      <td>0.000000</td>\n",
       "    </tr>\n",
       "    <tr>\n",
       "      <th>25%</th>\n",
       "      <td>0.378536</td>\n",
       "      <td>0.376741</td>\n",
       "      <td>0.357722</td>\n",
       "      <td>0.373955</td>\n",
       "      <td>0.386901</td>\n",
       "      <td>0.366031</td>\n",
       "      <td>0.374438</td>\n",
       "      <td>0.370799</td>\n",
       "      <td>0.372143</td>\n",
       "      <td>0.000000</td>\n",
       "    </tr>\n",
       "    <tr>\n",
       "      <th>50%</th>\n",
       "      <td>0.500873</td>\n",
       "      <td>0.501885</td>\n",
       "      <td>0.472769</td>\n",
       "      <td>0.497191</td>\n",
       "      <td>0.499595</td>\n",
       "      <td>0.486139</td>\n",
       "      <td>0.494579</td>\n",
       "      <td>0.493583</td>\n",
       "      <td>0.494489</td>\n",
       "      <td>0.000000</td>\n",
       "    </tr>\n",
       "    <tr>\n",
       "      <th>75%</th>\n",
       "      <td>0.621538</td>\n",
       "      <td>0.622957</td>\n",
       "      <td>0.616293</td>\n",
       "      <td>0.621559</td>\n",
       "      <td>0.610259</td>\n",
       "      <td>0.619885</td>\n",
       "      <td>0.626283</td>\n",
       "      <td>0.622119</td>\n",
       "      <td>0.623964</td>\n",
       "      <td>1.000000</td>\n",
       "    </tr>\n",
       "    <tr>\n",
       "      <th>max</th>\n",
       "      <td>1.000000</td>\n",
       "      <td>1.000000</td>\n",
       "      <td>1.000000</td>\n",
       "      <td>1.000000</td>\n",
       "      <td>1.000000</td>\n",
       "      <td>1.000000</td>\n",
       "      <td>1.000000</td>\n",
       "      <td>1.000000</td>\n",
       "      <td>1.000000</td>\n",
       "      <td>1.000000</td>\n",
       "    </tr>\n",
       "  </tbody>\n",
       "</table>\n",
       "</div>"
      ],
      "text/plain": [
       "                ph     Hardness       Solids  Chloramines      Sulfate  \\\n",
       "count  2437.000000  2437.000000  2437.000000  2437.000000  2437.000000   \n",
       "mean      0.500312     0.497936     0.493188     0.497349     0.499711   \n",
       "std       0.198961     0.186076     0.181662     0.186089     0.210039   \n",
       "min       0.000000     0.000000     0.000000     0.000000     0.000000   \n",
       "25%       0.378536     0.376741     0.357722     0.373955     0.386901   \n",
       "50%       0.500873     0.501885     0.472769     0.497191     0.499595   \n",
       "75%       0.621538     0.622957     0.616293     0.621559     0.610259   \n",
       "max       1.000000     1.000000     1.000000     1.000000     1.000000   \n",
       "\n",
       "       Conductivity  Organic_carbon  Trihalomethanes    Turbidity   Potability  \n",
       "count   2437.000000     2437.000000      2437.000000  2437.000000  2437.000000  \n",
       "mean       0.497321        0.499364         0.492546     0.496859     0.370127  \n",
       "std        0.176648        0.180399         0.189568     0.181417     0.482938  \n",
       "min        0.000000        0.000000         0.000000     0.000000     0.000000  \n",
       "25%        0.366031        0.374438         0.370799     0.372143     0.000000  \n",
       "50%        0.486139        0.494579         0.493583     0.494489     0.000000  \n",
       "75%        0.619885        0.626283         0.622119     0.623964     1.000000  \n",
       "max        1.000000        1.000000         1.000000     1.000000     1.000000  "
      ]
     },
     "execution_count": 28,
     "metadata": {},
     "output_type": "execute_result"
    }
   ],
   "source": [
    "data.describe()"
   ]
  },
  {
   "cell_type": "markdown",
   "metadata": {
    "id": "CF5FBrl0ojU5"
   },
   "source": [
    "**C. Klasifikasi KNN**"
   ]
  },
  {
   "cell_type": "code",
   "execution_count": 29,
   "metadata": {
    "colab": {
     "base_uri": "https://localhost:8080/",
     "height": 204
    },
    "id": "4Kjwwogcl9ge",
    "outputId": "29de75ed-2b8d-4508-eb50-ab310ce8d0a4"
   },
   "outputs": [
    {
     "data": {
      "text/html": [
       "<div>\n",
       "<style scoped>\n",
       "    .dataframe tbody tr th:only-of-type {\n",
       "        vertical-align: middle;\n",
       "    }\n",
       "\n",
       "    .dataframe tbody tr th {\n",
       "        vertical-align: top;\n",
       "    }\n",
       "\n",
       "    .dataframe thead th {\n",
       "        text-align: right;\n",
       "    }\n",
       "</style>\n",
       "<table border=\"1\" class=\"dataframe\">\n",
       "  <thead>\n",
       "    <tr style=\"text-align: right;\">\n",
       "      <th></th>\n",
       "      <th>ph</th>\n",
       "      <th>Hardness</th>\n",
       "      <th>Solids</th>\n",
       "      <th>Chloramines</th>\n",
       "      <th>Sulfate</th>\n",
       "      <th>Conductivity</th>\n",
       "      <th>Organic_carbon</th>\n",
       "      <th>Trihalomethanes</th>\n",
       "      <th>Turbidity</th>\n",
       "    </tr>\n",
       "  </thead>\n",
       "  <tbody>\n",
       "    <tr>\n",
       "      <th>0</th>\n",
       "      <td>0.500873</td>\n",
       "      <td>0.552809</td>\n",
       "      <td>0.477448</td>\n",
       "      <td>0.523650</td>\n",
       "      <td>0.812178</td>\n",
       "      <td>0.804335</td>\n",
       "      <td>0.278146</td>\n",
       "      <td>0.755323</td>\n",
       "      <td>0.258967</td>\n",
       "    </tr>\n",
       "    <tr>\n",
       "      <th>2</th>\n",
       "      <td>0.677778</td>\n",
       "      <td>0.686419</td>\n",
       "      <td>0.456882</td>\n",
       "      <td>0.791717</td>\n",
       "      <td>0.499595</td>\n",
       "      <td>0.481211</td>\n",
       "      <td>0.642531</td>\n",
       "      <td>0.493885</td>\n",
       "      <td>0.281003</td>\n",
       "    </tr>\n",
       "    <tr>\n",
       "      <th>3</th>\n",
       "      <td>0.715587</td>\n",
       "      <td>0.618302</td>\n",
       "      <td>0.506069</td>\n",
       "      <td>0.626651</td>\n",
       "      <td>0.707533</td>\n",
       "      <td>0.358484</td>\n",
       "      <td>0.730577</td>\n",
       "      <td>0.924999</td>\n",
       "      <td>0.654492</td>\n",
       "    </tr>\n",
       "    <tr>\n",
       "      <th>4</th>\n",
       "      <td>0.850300</td>\n",
       "      <td>0.388512</td>\n",
       "      <td>0.411854</td>\n",
       "      <td>0.421397</td>\n",
       "      <td>0.286891</td>\n",
       "      <td>0.436423</td>\n",
       "      <td>0.344325</td>\n",
       "      <td>0.056411</td>\n",
       "      <td>0.523011</td>\n",
       "    </tr>\n",
       "    <tr>\n",
       "      <th>5</th>\n",
       "      <td>0.240864</td>\n",
       "      <td>0.438320</td>\n",
       "      <td>0.663045</td>\n",
       "      <td>0.556846</td>\n",
       "      <td>0.435735</td>\n",
       "      <td>0.174862</td>\n",
       "      <td>0.166955</td>\n",
       "      <td>0.347702</td>\n",
       "      <td>0.163169</td>\n",
       "    </tr>\n",
       "  </tbody>\n",
       "</table>\n",
       "</div>"
      ],
      "text/plain": [
       "         ph  Hardness    Solids  Chloramines   Sulfate  Conductivity  \\\n",
       "0  0.500873  0.552809  0.477448     0.523650  0.812178      0.804335   \n",
       "2  0.677778  0.686419  0.456882     0.791717  0.499595      0.481211   \n",
       "3  0.715587  0.618302  0.506069     0.626651  0.707533      0.358484   \n",
       "4  0.850300  0.388512  0.411854     0.421397  0.286891      0.436423   \n",
       "5  0.240864  0.438320  0.663045     0.556846  0.435735      0.174862   \n",
       "\n",
       "   Organic_carbon  Trihalomethanes  Turbidity  \n",
       "0        0.278146         0.755323   0.258967  \n",
       "2        0.642531         0.493885   0.281003  \n",
       "3        0.730577         0.924999   0.654492  \n",
       "4        0.344325         0.056411   0.523011  \n",
       "5        0.166955         0.347702   0.163169  "
      ]
     },
     "execution_count": 29,
     "metadata": {},
     "output_type": "execute_result"
    }
   ],
   "source": [
    "# menghapus data dependen\n",
    "x = data.drop('Potability', axis=1)\n",
    "x.head()"
   ]
  },
  {
   "cell_type": "code",
   "execution_count": 30,
   "metadata": {
    "colab": {
     "base_uri": "https://localhost:8080/"
    },
    "id": "o6-tmiSwpIq0",
    "outputId": "852e8eb1-b903-421e-e76a-2fbc867ead30"
   },
   "outputs": [
    {
     "data": {
      "text/plain": [
       "0    0.0\n",
       "2    0.0\n",
       "3    0.0\n",
       "4    0.0\n",
       "5    0.0\n",
       "Name: Potability, dtype: float64"
      ]
     },
     "execution_count": 30,
     "metadata": {},
     "output_type": "execute_result"
    }
   ],
   "source": [
    "#data dependen\n",
    "y = data['Potability']\n",
    "y.head()"
   ]
  },
  {
   "cell_type": "code",
   "execution_count": 70,
   "metadata": {
    "id": "BLiLfFhZpFOI"
   },
   "outputs": [],
   "source": [
    "#Membagi data menjadi 2, untuk data training dan data testing\n",
    "x_train, x_test, y_train, y_test = train_test_split(x, y, test_size = 0.20, random_state =18, stratify=y)"
   ]
  },
  {
   "cell_type": "code",
   "execution_count": 71,
   "metadata": {},
   "outputs": [
    {
     "data": {
      "text/plain": [
       "{'n_neighbors': 29}"
      ]
     },
     "execution_count": 71,
     "metadata": {},
     "output_type": "execute_result"
    }
   ],
   "source": [
    "from sklearn.model_selection import GridSearchCV\n",
    "param_grid = {'n_neighbors': np.arange(1,201)}\n",
    "\n",
    "knn_clf = GridSearchCV(KNeighborsClassifier(), param_grid, cv=3, scoring='accuracy')\n",
    "\n",
    "knn_clf.fit(x_train, y_train)\n",
    "knn_clf.best_params_"
   ]
  },
  {
   "cell_type": "code",
   "execution_count": 72,
   "metadata": {
    "id": "udb7l-l8phNo"
   },
   "outputs": [],
   "source": [
    "# Mengaktifkan fungsi klasifikasi\n",
    "#k = 9\n",
    "klasifikasi = KNeighborsClassifier(n_neighbors=29, weights='uniform',algorithm='auto', metric='euclidean')\n"
   ]
  },
  {
   "cell_type": "code",
   "execution_count": 73,
   "metadata": {
    "colab": {
     "base_uri": "https://localhost:8080/"
    },
    "id": "Ki_uOao8pjXo",
    "outputId": "730339e1-c712-4b12-ff15-07f83a6a8fee"
   },
   "outputs": [
    {
     "data": {
      "text/html": [
       "<style>#sk-container-id-6 {color: black;background-color: white;}#sk-container-id-6 pre{padding: 0;}#sk-container-id-6 div.sk-toggleable {background-color: white;}#sk-container-id-6 label.sk-toggleable__label {cursor: pointer;display: block;width: 100%;margin-bottom: 0;padding: 0.3em;box-sizing: border-box;text-align: center;}#sk-container-id-6 label.sk-toggleable__label-arrow:before {content: \"▸\";float: left;margin-right: 0.25em;color: #696969;}#sk-container-id-6 label.sk-toggleable__label-arrow:hover:before {color: black;}#sk-container-id-6 div.sk-estimator:hover label.sk-toggleable__label-arrow:before {color: black;}#sk-container-id-6 div.sk-toggleable__content {max-height: 0;max-width: 0;overflow: hidden;text-align: left;background-color: #f0f8ff;}#sk-container-id-6 div.sk-toggleable__content pre {margin: 0.2em;color: black;border-radius: 0.25em;background-color: #f0f8ff;}#sk-container-id-6 input.sk-toggleable__control:checked~div.sk-toggleable__content {max-height: 200px;max-width: 100%;overflow: auto;}#sk-container-id-6 input.sk-toggleable__control:checked~label.sk-toggleable__label-arrow:before {content: \"▾\";}#sk-container-id-6 div.sk-estimator input.sk-toggleable__control:checked~label.sk-toggleable__label {background-color: #d4ebff;}#sk-container-id-6 div.sk-label input.sk-toggleable__control:checked~label.sk-toggleable__label {background-color: #d4ebff;}#sk-container-id-6 input.sk-hidden--visually {border: 0;clip: rect(1px 1px 1px 1px);clip: rect(1px, 1px, 1px, 1px);height: 1px;margin: -1px;overflow: hidden;padding: 0;position: absolute;width: 1px;}#sk-container-id-6 div.sk-estimator {font-family: monospace;background-color: #f0f8ff;border: 1px dotted black;border-radius: 0.25em;box-sizing: border-box;margin-bottom: 0.5em;}#sk-container-id-6 div.sk-estimator:hover {background-color: #d4ebff;}#sk-container-id-6 div.sk-parallel-item::after {content: \"\";width: 100%;border-bottom: 1px solid gray;flex-grow: 1;}#sk-container-id-6 div.sk-label:hover label.sk-toggleable__label {background-color: #d4ebff;}#sk-container-id-6 div.sk-serial::before {content: \"\";position: absolute;border-left: 1px solid gray;box-sizing: border-box;top: 0;bottom: 0;left: 50%;z-index: 0;}#sk-container-id-6 div.sk-serial {display: flex;flex-direction: column;align-items: center;background-color: white;padding-right: 0.2em;padding-left: 0.2em;position: relative;}#sk-container-id-6 div.sk-item {position: relative;z-index: 1;}#sk-container-id-6 div.sk-parallel {display: flex;align-items: stretch;justify-content: center;background-color: white;position: relative;}#sk-container-id-6 div.sk-item::before, #sk-container-id-6 div.sk-parallel-item::before {content: \"\";position: absolute;border-left: 1px solid gray;box-sizing: border-box;top: 0;bottom: 0;left: 50%;z-index: -1;}#sk-container-id-6 div.sk-parallel-item {display: flex;flex-direction: column;z-index: 1;position: relative;background-color: white;}#sk-container-id-6 div.sk-parallel-item:first-child::after {align-self: flex-end;width: 50%;}#sk-container-id-6 div.sk-parallel-item:last-child::after {align-self: flex-start;width: 50%;}#sk-container-id-6 div.sk-parallel-item:only-child::after {width: 0;}#sk-container-id-6 div.sk-dashed-wrapped {border: 1px dashed gray;margin: 0 0.4em 0.5em 0.4em;box-sizing: border-box;padding-bottom: 0.4em;background-color: white;}#sk-container-id-6 div.sk-label label {font-family: monospace;font-weight: bold;display: inline-block;line-height: 1.2em;}#sk-container-id-6 div.sk-label-container {text-align: center;}#sk-container-id-6 div.sk-container {/* jupyter's `normalize.less` sets `[hidden] { display: none; }` but bootstrap.min.css set `[hidden] { display: none !important; }` so we also need the `!important` here to be able to override the default hidden behavior on the sphinx rendered scikit-learn.org. See: https://github.com/scikit-learn/scikit-learn/issues/21755 */display: inline-block !important;position: relative;}#sk-container-id-6 div.sk-text-repr-fallback {display: none;}</style><div id=\"sk-container-id-6\" class=\"sk-top-container\"><div class=\"sk-text-repr-fallback\"><pre>KNeighborsClassifier(metric=&#x27;euclidean&#x27;, n_neighbors=29)</pre><b>In a Jupyter environment, please rerun this cell to show the HTML representation or trust the notebook. <br />On GitHub, the HTML representation is unable to render, please try loading this page with nbviewer.org.</b></div><div class=\"sk-container\" hidden><div class=\"sk-item\"><div class=\"sk-estimator sk-toggleable\"><input class=\"sk-toggleable__control sk-hidden--visually\" id=\"sk-estimator-id-6\" type=\"checkbox\" checked><label for=\"sk-estimator-id-6\" class=\"sk-toggleable__label sk-toggleable__label-arrow\">KNeighborsClassifier</label><div class=\"sk-toggleable__content\"><pre>KNeighborsClassifier(metric=&#x27;euclidean&#x27;, n_neighbors=29)</pre></div></div></div></div></div>"
      ],
      "text/plain": [
       "KNeighborsClassifier(metric='euclidean', n_neighbors=29)"
      ]
     },
     "execution_count": 73,
     "metadata": {},
     "output_type": "execute_result"
    }
   ],
   "source": [
    "# Memasukkan data training pada fungsi klasifikasi\n",
    "klasifikasi.fit(x_train, y_train)"
   ]
  },
  {
   "cell_type": "code",
   "execution_count": 79,
   "metadata": {
    "colab": {
     "base_uri": "https://localhost:8080/"
    },
    "id": "mPclWMwNpl4i",
    "outputId": "3e248d27-7257-4a79-94d4-2893ed9080de"
   },
   "outputs": [
    {
     "name": "stdout",
     "output_type": "stream",
     "text": [
      "[1. 0. 0. 0. 0. 0. 0. 0. 0. 0. 0. 0. 0. 0. 0. 0. 0. 0. 0. 1. 0. 0. 1. 0.\n",
      " 0. 1. 0. 0. 0. 1. 1. 0. 0. 0. 0. 0. 0. 0. 0. 0. 0. 0. 0. 0. 0. 0. 0. 0.\n",
      " 0. 0. 0. 0. 0. 0. 1. 0. 0. 0. 0. 0. 0. 1. 0. 0. 0. 0. 0. 0. 0. 0. 0. 0.\n",
      " 0. 1. 0. 0. 0. 0. 1. 0. 1. 0. 1. 0. 0. 0. 0. 0. 1. 0. 0. 0. 0. 0. 0. 0.\n",
      " 0. 1. 0. 0. 0. 0. 0. 1. 0. 1. 0. 0. 0. 0. 0. 0. 0. 0. 0. 0. 0. 0. 0. 1.\n",
      " 0. 0. 0. 0. 0. 0. 0. 0. 1. 0. 1. 0. 0. 0. 0. 0. 0. 0. 0. 0. 0. 0. 0. 0.\n",
      " 0. 0. 0. 0. 0. 1. 0. 0. 0. 1. 0. 0. 0. 1. 0. 0. 0. 0. 0. 0. 0. 0. 0. 0.\n",
      " 0. 0. 1. 0. 0. 0. 0. 0. 0. 0. 0. 0. 0. 0. 0. 0. 0. 0. 0. 0. 0. 1. 0. 0.\n",
      " 0. 0. 0. 0. 0. 0. 0. 0. 0. 0. 0. 1. 0. 0. 0. 1. 0. 0. 0. 0. 0. 0. 1. 0.\n",
      " 0. 1. 0. 0. 0. 0. 0. 0. 0. 0. 0. 1. 0. 0. 0. 0. 0. 0. 0. 0. 0. 0. 0. 1.\n",
      " 1. 0. 0. 0. 0. 0. 0. 0. 0. 0. 1. 0. 0. 0. 0. 0. 1. 0. 0. 0. 0. 0. 0. 0.\n",
      " 0. 0. 0. 0. 0. 0. 0. 0. 0. 0. 0. 0. 0. 0. 0. 0. 0. 0. 0. 0. 0. 0. 0. 0.\n",
      " 0. 0. 0. 0. 0. 0. 0. 0. 0. 0. 0. 0. 0. 0. 0. 0. 0. 1. 0. 0. 0. 0. 0. 1.\n",
      " 0. 0. 0. 0. 0. 0. 0. 0. 0. 0. 0. 0. 1. 0. 0. 0. 0. 0. 0. 0. 0. 0. 0. 0.\n",
      " 1. 0. 0. 0. 0. 0. 0. 0. 0. 0. 0. 0. 0. 0. 0. 0. 0. 0. 0. 0. 0. 0. 0. 0.\n",
      " 0. 0. 0. 0. 0. 0. 0. 1. 1. 0. 0. 0. 0. 0. 1. 0. 0. 1. 1. 0. 1. 0. 0. 0.\n",
      " 0. 0. 0. 0. 0. 0. 0. 0. 0. 0. 0. 0. 0. 0. 0. 0. 0. 1. 0. 0. 1. 0. 0. 0.\n",
      " 0. 0. 0. 0. 0. 0. 0. 0. 1. 0. 0. 0. 1. 0. 1. 1. 0. 0. 0. 0. 0. 1. 0. 0.\n",
      " 0. 1. 0. 0. 0. 0. 0. 0. 0. 0. 0. 0. 0. 0. 0. 0. 0. 0. 0. 0. 0. 0. 0. 0.\n",
      " 0. 0. 0. 0. 0. 0. 0. 0. 0. 0. 0. 0. 0. 0. 0. 0. 0. 0. 0. 0. 1. 0. 0. 0.\n",
      " 0. 0. 0. 0. 0. 0. 1. 0.]\n"
     ]
    }
   ],
   "source": [
    "# Menentukan hasil prediksi dari x_test\n",
    "y_pred = klasifikasi.predict(x_test)\n",
    "print(y_pred)\n"
   ]
  },
  {
   "cell_type": "code",
   "execution_count": 80,
   "metadata": {
    "colab": {
     "base_uri": "https://localhost:8080/"
    },
    "id": "n6_hFDdxpph3",
    "outputId": "9a266e32-9548-41bc-ede8-9c6b90d78b98"
   },
   "outputs": [
    {
     "data": {
      "text/plain": [
       "array([[0.34482759, 0.65517241],\n",
       "       [0.72413793, 0.27586207],\n",
       "       [0.65517241, 0.34482759],\n",
       "       [0.55172414, 0.44827586],\n",
       "       [0.68965517, 0.31034483],\n",
       "       [0.65517241, 0.34482759],\n",
       "       [0.62068966, 0.37931034],\n",
       "       [0.5862069 , 0.4137931 ],\n",
       "       [0.65517241, 0.34482759],\n",
       "       [0.75862069, 0.24137931],\n",
       "       [0.5862069 , 0.4137931 ],\n",
       "       [0.62068966, 0.37931034],\n",
       "       [0.65517241, 0.34482759],\n",
       "       [0.72413793, 0.27586207],\n",
       "       [0.72413793, 0.27586207],\n",
       "       [0.79310345, 0.20689655],\n",
       "       [0.68965517, 0.31034483],\n",
       "       [0.62068966, 0.37931034],\n",
       "       [0.79310345, 0.20689655],\n",
       "       [0.31034483, 0.68965517],\n",
       "       [0.79310345, 0.20689655],\n",
       "       [0.62068966, 0.37931034],\n",
       "       [0.4137931 , 0.5862069 ],\n",
       "       [0.65517241, 0.34482759],\n",
       "       [0.55172414, 0.44827586],\n",
       "       [0.31034483, 0.68965517],\n",
       "       [0.5862069 , 0.4137931 ],\n",
       "       [0.72413793, 0.27586207],\n",
       "       [0.51724138, 0.48275862],\n",
       "       [0.34482759, 0.65517241],\n",
       "       [0.37931034, 0.62068966],\n",
       "       [0.55172414, 0.44827586],\n",
       "       [0.68965517, 0.31034483],\n",
       "       [0.51724138, 0.48275862],\n",
       "       [0.65517241, 0.34482759],\n",
       "       [0.68965517, 0.31034483],\n",
       "       [0.65517241, 0.34482759],\n",
       "       [0.65517241, 0.34482759],\n",
       "       [0.68965517, 0.31034483],\n",
       "       [0.75862069, 0.24137931],\n",
       "       [0.72413793, 0.27586207],\n",
       "       [0.5862069 , 0.4137931 ],\n",
       "       [0.82758621, 0.17241379],\n",
       "       [0.55172414, 0.44827586],\n",
       "       [0.79310345, 0.20689655],\n",
       "       [0.68965517, 0.31034483],\n",
       "       [0.82758621, 0.17241379],\n",
       "       [0.65517241, 0.34482759],\n",
       "       [0.65517241, 0.34482759],\n",
       "       [0.82758621, 0.17241379],\n",
       "       [0.62068966, 0.37931034],\n",
       "       [0.75862069, 0.24137931],\n",
       "       [0.51724138, 0.48275862],\n",
       "       [0.75862069, 0.24137931],\n",
       "       [0.48275862, 0.51724138],\n",
       "       [0.75862069, 0.24137931],\n",
       "       [0.75862069, 0.24137931],\n",
       "       [0.68965517, 0.31034483],\n",
       "       [0.55172414, 0.44827586],\n",
       "       [0.82758621, 0.17241379],\n",
       "       [0.55172414, 0.44827586],\n",
       "       [0.31034483, 0.68965517],\n",
       "       [0.72413793, 0.27586207],\n",
       "       [0.75862069, 0.24137931],\n",
       "       [0.68965517, 0.31034483],\n",
       "       [0.55172414, 0.44827586],\n",
       "       [0.51724138, 0.48275862],\n",
       "       [0.72413793, 0.27586207],\n",
       "       [0.65517241, 0.34482759],\n",
       "       [0.55172414, 0.44827586],\n",
       "       [0.68965517, 0.31034483],\n",
       "       [0.62068966, 0.37931034],\n",
       "       [0.68965517, 0.31034483],\n",
       "       [0.48275862, 0.51724138],\n",
       "       [0.72413793, 0.27586207],\n",
       "       [0.79310345, 0.20689655],\n",
       "       [0.68965517, 0.31034483],\n",
       "       [0.72413793, 0.27586207],\n",
       "       [0.4137931 , 0.5862069 ],\n",
       "       [0.68965517, 0.31034483],\n",
       "       [0.27586207, 0.72413793],\n",
       "       [0.82758621, 0.17241379],\n",
       "       [0.37931034, 0.62068966],\n",
       "       [0.65517241, 0.34482759],\n",
       "       [0.5862069 , 0.4137931 ],\n",
       "       [0.62068966, 0.37931034],\n",
       "       [0.62068966, 0.37931034],\n",
       "       [0.68965517, 0.31034483],\n",
       "       [0.37931034, 0.62068966],\n",
       "       [0.75862069, 0.24137931],\n",
       "       [0.68965517, 0.31034483],\n",
       "       [0.51724138, 0.48275862],\n",
       "       [0.65517241, 0.34482759],\n",
       "       [0.65517241, 0.34482759],\n",
       "       [0.65517241, 0.34482759],\n",
       "       [0.5862069 , 0.4137931 ],\n",
       "       [0.51724138, 0.48275862],\n",
       "       [0.4137931 , 0.5862069 ],\n",
       "       [0.75862069, 0.24137931],\n",
       "       [0.65517241, 0.34482759],\n",
       "       [0.75862069, 0.24137931],\n",
       "       [0.72413793, 0.27586207],\n",
       "       [0.62068966, 0.37931034],\n",
       "       [0.48275862, 0.51724138],\n",
       "       [0.55172414, 0.44827586],\n",
       "       [0.44827586, 0.55172414],\n",
       "       [0.5862069 , 0.4137931 ],\n",
       "       [0.72413793, 0.27586207],\n",
       "       [0.5862069 , 0.4137931 ],\n",
       "       [0.62068966, 0.37931034],\n",
       "       [0.72413793, 0.27586207],\n",
       "       [0.65517241, 0.34482759],\n",
       "       [0.89655172, 0.10344828],\n",
       "       [0.68965517, 0.31034483],\n",
       "       [0.5862069 , 0.4137931 ],\n",
       "       [0.72413793, 0.27586207],\n",
       "       [0.68965517, 0.31034483],\n",
       "       [0.72413793, 0.27586207],\n",
       "       [0.5862069 , 0.4137931 ],\n",
       "       [0.31034483, 0.68965517],\n",
       "       [0.62068966, 0.37931034],\n",
       "       [0.72413793, 0.27586207],\n",
       "       [0.62068966, 0.37931034],\n",
       "       [0.75862069, 0.24137931],\n",
       "       [0.5862069 , 0.4137931 ],\n",
       "       [0.65517241, 0.34482759],\n",
       "       [0.5862069 , 0.4137931 ],\n",
       "       [0.51724138, 0.48275862],\n",
       "       [0.48275862, 0.51724138],\n",
       "       [0.51724138, 0.48275862],\n",
       "       [0.48275862, 0.51724138],\n",
       "       [0.75862069, 0.24137931],\n",
       "       [0.62068966, 0.37931034],\n",
       "       [0.75862069, 0.24137931],\n",
       "       [0.72413793, 0.27586207],\n",
       "       [0.62068966, 0.37931034],\n",
       "       [0.65517241, 0.34482759],\n",
       "       [0.72413793, 0.27586207],\n",
       "       [0.65517241, 0.34482759],\n",
       "       [0.65517241, 0.34482759],\n",
       "       [0.75862069, 0.24137931],\n",
       "       [0.65517241, 0.34482759],\n",
       "       [0.5862069 , 0.4137931 ],\n",
       "       [0.68965517, 0.31034483],\n",
       "       [0.72413793, 0.27586207],\n",
       "       [0.79310345, 0.20689655],\n",
       "       [0.65517241, 0.34482759],\n",
       "       [0.5862069 , 0.4137931 ],\n",
       "       [0.79310345, 0.20689655],\n",
       "       [0.48275862, 0.51724138],\n",
       "       [0.65517241, 0.34482759],\n",
       "       [0.65517241, 0.34482759],\n",
       "       [0.72413793, 0.27586207],\n",
       "       [0.48275862, 0.51724138],\n",
       "       [0.62068966, 0.37931034],\n",
       "       [0.86206897, 0.13793103],\n",
       "       [0.65517241, 0.34482759],\n",
       "       [0.48275862, 0.51724138],\n",
       "       [0.5862069 , 0.4137931 ],\n",
       "       [0.51724138, 0.48275862],\n",
       "       [0.82758621, 0.17241379],\n",
       "       [0.55172414, 0.44827586],\n",
       "       [0.68965517, 0.31034483],\n",
       "       [0.72413793, 0.27586207],\n",
       "       [0.5862069 , 0.4137931 ],\n",
       "       [0.65517241, 0.34482759],\n",
       "       [0.79310345, 0.20689655],\n",
       "       [0.72413793, 0.27586207],\n",
       "       [0.68965517, 0.31034483],\n",
       "       [0.65517241, 0.34482759],\n",
       "       [0.44827586, 0.55172414],\n",
       "       [0.62068966, 0.37931034],\n",
       "       [0.51724138, 0.48275862],\n",
       "       [0.62068966, 0.37931034],\n",
       "       [0.65517241, 0.34482759],\n",
       "       [0.65517241, 0.34482759],\n",
       "       [0.51724138, 0.48275862],\n",
       "       [0.79310345, 0.20689655],\n",
       "       [0.72413793, 0.27586207],\n",
       "       [0.5862069 , 0.4137931 ],\n",
       "       [0.65517241, 0.34482759],\n",
       "       [0.72413793, 0.27586207],\n",
       "       [0.79310345, 0.20689655],\n",
       "       [0.68965517, 0.31034483],\n",
       "       [0.5862069 , 0.4137931 ],\n",
       "       [0.72413793, 0.27586207],\n",
       "       [0.68965517, 0.31034483],\n",
       "       [0.75862069, 0.24137931],\n",
       "       [0.75862069, 0.24137931],\n",
       "       [0.44827586, 0.55172414],\n",
       "       [0.62068966, 0.37931034],\n",
       "       [0.5862069 , 0.4137931 ],\n",
       "       [0.65517241, 0.34482759],\n",
       "       [0.62068966, 0.37931034],\n",
       "       [0.51724138, 0.48275862],\n",
       "       [0.62068966, 0.37931034],\n",
       "       [0.75862069, 0.24137931],\n",
       "       [0.72413793, 0.27586207],\n",
       "       [0.82758621, 0.17241379],\n",
       "       [0.79310345, 0.20689655],\n",
       "       [0.5862069 , 0.4137931 ],\n",
       "       [0.55172414, 0.44827586],\n",
       "       [0.5862069 , 0.4137931 ],\n",
       "       [0.24137931, 0.75862069],\n",
       "       [0.55172414, 0.44827586],\n",
       "       [0.5862069 , 0.4137931 ],\n",
       "       [0.75862069, 0.24137931],\n",
       "       [0.34482759, 0.65517241],\n",
       "       [0.62068966, 0.37931034],\n",
       "       [0.75862069, 0.24137931],\n",
       "       [0.51724138, 0.48275862],\n",
       "       [0.5862069 , 0.4137931 ],\n",
       "       [0.5862069 , 0.4137931 ],\n",
       "       [0.72413793, 0.27586207],\n",
       "       [0.31034483, 0.68965517],\n",
       "       [0.68965517, 0.31034483],\n",
       "       [0.68965517, 0.31034483],\n",
       "       [0.4137931 , 0.5862069 ],\n",
       "       [0.75862069, 0.24137931],\n",
       "       [0.55172414, 0.44827586],\n",
       "       [0.55172414, 0.44827586],\n",
       "       [0.79310345, 0.20689655],\n",
       "       [0.51724138, 0.48275862],\n",
       "       [0.72413793, 0.27586207],\n",
       "       [0.79310345, 0.20689655],\n",
       "       [0.65517241, 0.34482759],\n",
       "       [0.62068966, 0.37931034],\n",
       "       [0.37931034, 0.62068966],\n",
       "       [0.65517241, 0.34482759],\n",
       "       [0.62068966, 0.37931034],\n",
       "       [0.65517241, 0.34482759],\n",
       "       [0.75862069, 0.24137931],\n",
       "       [0.65517241, 0.34482759],\n",
       "       [0.68965517, 0.31034483],\n",
       "       [0.55172414, 0.44827586],\n",
       "       [0.55172414, 0.44827586],\n",
       "       [0.65517241, 0.34482759],\n",
       "       [0.75862069, 0.24137931],\n",
       "       [0.65517241, 0.34482759],\n",
       "       [0.48275862, 0.51724138],\n",
       "       [0.44827586, 0.55172414],\n",
       "       [0.79310345, 0.20689655],\n",
       "       [0.65517241, 0.34482759],\n",
       "       [0.65517241, 0.34482759],\n",
       "       [0.62068966, 0.37931034],\n",
       "       [0.65517241, 0.34482759],\n",
       "       [0.62068966, 0.37931034],\n",
       "       [0.55172414, 0.44827586],\n",
       "       [0.68965517, 0.31034483],\n",
       "       [0.62068966, 0.37931034],\n",
       "       [0.48275862, 0.51724138],\n",
       "       [0.75862069, 0.24137931],\n",
       "       [0.72413793, 0.27586207],\n",
       "       [0.62068966, 0.37931034],\n",
       "       [0.51724138, 0.48275862],\n",
       "       [0.55172414, 0.44827586],\n",
       "       [0.48275862, 0.51724138],\n",
       "       [0.93103448, 0.06896552],\n",
       "       [0.51724138, 0.48275862],\n",
       "       [0.82758621, 0.17241379],\n",
       "       [0.55172414, 0.44827586],\n",
       "       [0.62068966, 0.37931034],\n",
       "       [0.79310345, 0.20689655],\n",
       "       [0.55172414, 0.44827586],\n",
       "       [0.51724138, 0.48275862],\n",
       "       [0.68965517, 0.31034483],\n",
       "       [0.5862069 , 0.4137931 ],\n",
       "       [0.62068966, 0.37931034],\n",
       "       [0.65517241, 0.34482759],\n",
       "       [0.55172414, 0.44827586],\n",
       "       [0.51724138, 0.48275862],\n",
       "       [0.51724138, 0.48275862],\n",
       "       [0.55172414, 0.44827586],\n",
       "       [0.5862069 , 0.4137931 ],\n",
       "       [0.55172414, 0.44827586],\n",
       "       [0.79310345, 0.20689655],\n",
       "       [0.65517241, 0.34482759],\n",
       "       [0.55172414, 0.44827586],\n",
       "       [0.5862069 , 0.4137931 ],\n",
       "       [0.65517241, 0.34482759],\n",
       "       [0.55172414, 0.44827586],\n",
       "       [0.68965517, 0.31034483],\n",
       "       [0.51724138, 0.48275862],\n",
       "       [0.72413793, 0.27586207],\n",
       "       [0.51724138, 0.48275862],\n",
       "       [0.89655172, 0.10344828],\n",
       "       [0.68965517, 0.31034483],\n",
       "       [0.72413793, 0.27586207],\n",
       "       [0.68965517, 0.31034483],\n",
       "       [0.68965517, 0.31034483],\n",
       "       [0.5862069 , 0.4137931 ],\n",
       "       [0.72413793, 0.27586207],\n",
       "       [0.68965517, 0.31034483],\n",
       "       [0.75862069, 0.24137931],\n",
       "       [0.62068966, 0.37931034],\n",
       "       [0.62068966, 0.37931034],\n",
       "       [0.55172414, 0.44827586],\n",
       "       [0.62068966, 0.37931034],\n",
       "       [0.5862069 , 0.4137931 ],\n",
       "       [0.65517241, 0.34482759],\n",
       "       [0.65517241, 0.34482759],\n",
       "       [0.72413793, 0.27586207],\n",
       "       [0.51724138, 0.48275862],\n",
       "       [0.62068966, 0.37931034],\n",
       "       [0.51724138, 0.48275862],\n",
       "       [0.31034483, 0.68965517],\n",
       "       [0.51724138, 0.48275862],\n",
       "       [0.68965517, 0.31034483],\n",
       "       [0.62068966, 0.37931034],\n",
       "       [0.55172414, 0.44827586],\n",
       "       [0.72413793, 0.27586207],\n",
       "       [0.48275862, 0.51724138],\n",
       "       [0.68965517, 0.31034483],\n",
       "       [0.75862069, 0.24137931],\n",
       "       [0.72413793, 0.27586207],\n",
       "       [0.65517241, 0.34482759],\n",
       "       [0.5862069 , 0.4137931 ],\n",
       "       [0.62068966, 0.37931034],\n",
       "       [0.75862069, 0.24137931],\n",
       "       [0.86206897, 0.13793103],\n",
       "       [0.62068966, 0.37931034],\n",
       "       [0.93103448, 0.06896552],\n",
       "       [0.82758621, 0.17241379],\n",
       "       [0.65517241, 0.34482759],\n",
       "       [0.44827586, 0.55172414],\n",
       "       [0.79310345, 0.20689655],\n",
       "       [0.65517241, 0.34482759],\n",
       "       [0.65517241, 0.34482759],\n",
       "       [0.5862069 , 0.4137931 ],\n",
       "       [0.65517241, 0.34482759],\n",
       "       [0.51724138, 0.48275862],\n",
       "       [0.62068966, 0.37931034],\n",
       "       [0.55172414, 0.44827586],\n",
       "       [0.51724138, 0.48275862],\n",
       "       [0.5862069 , 0.4137931 ],\n",
       "       [0.75862069, 0.24137931],\n",
       "       [0.44827586, 0.55172414],\n",
       "       [0.72413793, 0.27586207],\n",
       "       [0.51724138, 0.48275862],\n",
       "       [0.55172414, 0.44827586],\n",
       "       [0.72413793, 0.27586207],\n",
       "       [0.65517241, 0.34482759],\n",
       "       [0.62068966, 0.37931034],\n",
       "       [0.72413793, 0.27586207],\n",
       "       [0.65517241, 0.34482759],\n",
       "       [0.68965517, 0.31034483],\n",
       "       [0.51724138, 0.48275862],\n",
       "       [0.75862069, 0.24137931],\n",
       "       [0.51724138, 0.48275862],\n",
       "       [0.5862069 , 0.4137931 ],\n",
       "       [0.55172414, 0.44827586],\n",
       "       [0.5862069 , 0.4137931 ],\n",
       "       [0.62068966, 0.37931034],\n",
       "       [0.72413793, 0.27586207],\n",
       "       [0.75862069, 0.24137931],\n",
       "       [0.68965517, 0.31034483],\n",
       "       [0.68965517, 0.31034483],\n",
       "       [0.72413793, 0.27586207],\n",
       "       [0.5862069 , 0.4137931 ],\n",
       "       [0.55172414, 0.44827586],\n",
       "       [0.72413793, 0.27586207],\n",
       "       [0.79310345, 0.20689655],\n",
       "       [0.72413793, 0.27586207],\n",
       "       [0.68965517, 0.31034483],\n",
       "       [0.75862069, 0.24137931],\n",
       "       [0.5862069 , 0.4137931 ],\n",
       "       [0.68965517, 0.31034483],\n",
       "       [0.44827586, 0.55172414],\n",
       "       [0.37931034, 0.62068966],\n",
       "       [0.68965517, 0.31034483],\n",
       "       [0.72413793, 0.27586207],\n",
       "       [0.72413793, 0.27586207],\n",
       "       [0.75862069, 0.24137931],\n",
       "       [0.51724138, 0.48275862],\n",
       "       [0.44827586, 0.55172414],\n",
       "       [0.79310345, 0.20689655],\n",
       "       [0.68965517, 0.31034483],\n",
       "       [0.34482759, 0.65517241],\n",
       "       [0.48275862, 0.51724138],\n",
       "       [0.72413793, 0.27586207],\n",
       "       [0.44827586, 0.55172414],\n",
       "       [0.86206897, 0.13793103],\n",
       "       [0.55172414, 0.44827586],\n",
       "       [0.65517241, 0.34482759],\n",
       "       [0.75862069, 0.24137931],\n",
       "       [0.5862069 , 0.4137931 ],\n",
       "       [0.75862069, 0.24137931],\n",
       "       [0.5862069 , 0.4137931 ],\n",
       "       [0.68965517, 0.31034483],\n",
       "       [0.65517241, 0.34482759],\n",
       "       [0.75862069, 0.24137931],\n",
       "       [0.55172414, 0.44827586],\n",
       "       [0.75862069, 0.24137931],\n",
       "       [0.55172414, 0.44827586],\n",
       "       [0.5862069 , 0.4137931 ],\n",
       "       [0.65517241, 0.34482759],\n",
       "       [0.68965517, 0.31034483],\n",
       "       [0.72413793, 0.27586207],\n",
       "       [0.65517241, 0.34482759],\n",
       "       [0.75862069, 0.24137931],\n",
       "       [0.68965517, 0.31034483],\n",
       "       [0.48275862, 0.51724138],\n",
       "       [0.68965517, 0.31034483],\n",
       "       [0.82758621, 0.17241379],\n",
       "       [0.4137931 , 0.5862069 ],\n",
       "       [0.65517241, 0.34482759],\n",
       "       [0.68965517, 0.31034483],\n",
       "       [0.65517241, 0.34482759],\n",
       "       [0.5862069 , 0.4137931 ],\n",
       "       [0.72413793, 0.27586207],\n",
       "       [0.55172414, 0.44827586],\n",
       "       [0.55172414, 0.44827586],\n",
       "       [0.65517241, 0.34482759],\n",
       "       [0.55172414, 0.44827586],\n",
       "       [0.68965517, 0.31034483],\n",
       "       [0.51724138, 0.48275862],\n",
       "       [0.4137931 , 0.5862069 ],\n",
       "       [0.55172414, 0.44827586],\n",
       "       [0.68965517, 0.31034483],\n",
       "       [0.68965517, 0.31034483],\n",
       "       [0.48275862, 0.51724138],\n",
       "       [0.68965517, 0.31034483],\n",
       "       [0.37931034, 0.62068966],\n",
       "       [0.27586207, 0.72413793],\n",
       "       [0.55172414, 0.44827586],\n",
       "       [0.62068966, 0.37931034],\n",
       "       [0.62068966, 0.37931034],\n",
       "       [0.72413793, 0.27586207],\n",
       "       [0.5862069 , 0.4137931 ],\n",
       "       [0.44827586, 0.55172414],\n",
       "       [0.75862069, 0.24137931],\n",
       "       [0.75862069, 0.24137931],\n",
       "       [0.65517241, 0.34482759],\n",
       "       [0.48275862, 0.51724138],\n",
       "       [0.75862069, 0.24137931],\n",
       "       [0.65517241, 0.34482759],\n",
       "       [0.72413793, 0.27586207],\n",
       "       [0.79310345, 0.20689655],\n",
       "       [0.62068966, 0.37931034],\n",
       "       [0.68965517, 0.31034483],\n",
       "       [0.55172414, 0.44827586],\n",
       "       [0.65517241, 0.34482759],\n",
       "       [0.51724138, 0.48275862],\n",
       "       [0.62068966, 0.37931034],\n",
       "       [0.68965517, 0.31034483],\n",
       "       [0.72413793, 0.27586207],\n",
       "       [0.72413793, 0.27586207],\n",
       "       [0.5862069 , 0.4137931 ],\n",
       "       [0.72413793, 0.27586207],\n",
       "       [0.55172414, 0.44827586],\n",
       "       [0.65517241, 0.34482759],\n",
       "       [0.5862069 , 0.4137931 ],\n",
       "       [0.51724138, 0.48275862],\n",
       "       [0.51724138, 0.48275862],\n",
       "       [0.79310345, 0.20689655],\n",
       "       [0.68965517, 0.31034483],\n",
       "       [0.65517241, 0.34482759],\n",
       "       [0.5862069 , 0.4137931 ],\n",
       "       [0.62068966, 0.37931034],\n",
       "       [0.68965517, 0.31034483],\n",
       "       [0.55172414, 0.44827586],\n",
       "       [0.5862069 , 0.4137931 ],\n",
       "       [0.72413793, 0.27586207],\n",
       "       [0.86206897, 0.13793103],\n",
       "       [0.68965517, 0.31034483],\n",
       "       [0.86206897, 0.13793103],\n",
       "       [0.65517241, 0.34482759],\n",
       "       [0.72413793, 0.27586207],\n",
       "       [0.68965517, 0.31034483],\n",
       "       [0.62068966, 0.37931034],\n",
       "       [0.62068966, 0.37931034],\n",
       "       [0.65517241, 0.34482759],\n",
       "       [0.55172414, 0.44827586],\n",
       "       [0.72413793, 0.27586207],\n",
       "       [0.65517241, 0.34482759],\n",
       "       [0.75862069, 0.24137931],\n",
       "       [0.48275862, 0.51724138],\n",
       "       [0.55172414, 0.44827586],\n",
       "       [0.79310345, 0.20689655],\n",
       "       [0.62068966, 0.37931034],\n",
       "       [0.62068966, 0.37931034],\n",
       "       [0.82758621, 0.17241379],\n",
       "       [0.72413793, 0.27586207],\n",
       "       [0.72413793, 0.27586207],\n",
       "       [0.68965517, 0.31034483],\n",
       "       [0.62068966, 0.37931034],\n",
       "       [0.44827586, 0.55172414],\n",
       "       [0.65517241, 0.34482759]])"
      ]
     },
     "execution_count": 80,
     "metadata": {},
     "output_type": "execute_result"
    }
   ],
   "source": [
    "# Menentukan probabilitas hasil prediksi\n",
    "klasifikasi.predict_proba(x_test)"
   ]
  },
  {
   "cell_type": "code",
   "execution_count": 81,
   "metadata": {
    "colab": {
     "base_uri": "https://localhost:8080/"
    },
    "id": "FD9zptHopuA1",
    "outputId": "f3e483c7-9c23-4add-8807-a9688606261f"
   },
   "outputs": [
    {
     "name": "stdout",
     "output_type": "stream",
     "text": [
      "[[286  21]\n",
      " [149  32]]\n"
     ]
    }
   ],
   "source": [
    "print(confusion_matrix(y_test, y_pred))"
   ]
  },
  {
   "cell_type": "code",
   "execution_count": 76,
   "metadata": {
    "colab": {
     "base_uri": "https://localhost:8080/"
    },
    "id": "MsIspkAzpy-q",
    "outputId": "4f670e1a-9ae9-44dd-bc52-710430971a2c"
   },
   "outputs": [
    {
     "ename": "ValueError",
     "evalue": "Found input variables with inconsistent numbers of samples: [488, 732]",
     "output_type": "error",
     "traceback": [
      "\u001b[1;31m---------------------------------------------------------------------------\u001b[0m",
      "\u001b[1;31mValueError\u001b[0m                                Traceback (most recent call last)",
      "Cell \u001b[1;32mIn[76], line 2\u001b[0m\n\u001b[0;32m      1\u001b[0m \u001b[38;5;66;03m#nilai akurasi\u001b[39;00m\n\u001b[1;32m----> 2\u001b[0m accuracy \u001b[38;5;241m=\u001b[39m \u001b[43maccuracy_score\u001b[49m\u001b[43m(\u001b[49m\u001b[43my_test\u001b[49m\u001b[43m,\u001b[49m\u001b[43m \u001b[49m\u001b[43my_pred\u001b[49m\u001b[43m)\u001b[49m\n\u001b[0;32m      3\u001b[0m \u001b[38;5;28mprint\u001b[39m(accuracy)\n",
      "File \u001b[1;32mC:\\Python311\\Lib\\site-packages\\sklearn\\utils\\_param_validation.py:192\u001b[0m, in \u001b[0;36mvalidate_params.<locals>.decorator.<locals>.wrapper\u001b[1;34m(*args, **kwargs)\u001b[0m\n\u001b[0;32m    187\u001b[0m validate_parameter_constraints(\n\u001b[0;32m    188\u001b[0m     parameter_constraints, params, caller_name\u001b[38;5;241m=\u001b[39mfunc\u001b[38;5;241m.\u001b[39m\u001b[38;5;18m__qualname__\u001b[39m\n\u001b[0;32m    189\u001b[0m )\n\u001b[0;32m    191\u001b[0m \u001b[38;5;28;01mtry\u001b[39;00m:\n\u001b[1;32m--> 192\u001b[0m     \u001b[38;5;28;01mreturn\u001b[39;00m \u001b[43mfunc\u001b[49m\u001b[43m(\u001b[49m\u001b[38;5;241;43m*\u001b[39;49m\u001b[43margs\u001b[49m\u001b[43m,\u001b[49m\u001b[43m \u001b[49m\u001b[38;5;241;43m*\u001b[39;49m\u001b[38;5;241;43m*\u001b[39;49m\u001b[43mkwargs\u001b[49m\u001b[43m)\u001b[49m\n\u001b[0;32m    193\u001b[0m \u001b[38;5;28;01mexcept\u001b[39;00m InvalidParameterError \u001b[38;5;28;01mas\u001b[39;00m e:\n\u001b[0;32m    194\u001b[0m     \u001b[38;5;66;03m# When the function is just a wrapper around an estimator, we allow\u001b[39;00m\n\u001b[0;32m    195\u001b[0m     \u001b[38;5;66;03m# the function to delegate validation to the estimator, but we replace\u001b[39;00m\n\u001b[0;32m    196\u001b[0m     \u001b[38;5;66;03m# the name of the estimator by the name of the function in the error\u001b[39;00m\n\u001b[0;32m    197\u001b[0m     \u001b[38;5;66;03m# message to avoid confusion.\u001b[39;00m\n\u001b[0;32m    198\u001b[0m     msg \u001b[38;5;241m=\u001b[39m re\u001b[38;5;241m.\u001b[39msub(\n\u001b[0;32m    199\u001b[0m         \u001b[38;5;124mr\u001b[39m\u001b[38;5;124m\"\u001b[39m\u001b[38;5;124mparameter of \u001b[39m\u001b[38;5;124m\\\u001b[39m\u001b[38;5;124mw+ must be\u001b[39m\u001b[38;5;124m\"\u001b[39m,\n\u001b[0;32m    200\u001b[0m         \u001b[38;5;124mf\u001b[39m\u001b[38;5;124m\"\u001b[39m\u001b[38;5;124mparameter of \u001b[39m\u001b[38;5;132;01m{\u001b[39;00mfunc\u001b[38;5;241m.\u001b[39m\u001b[38;5;18m__qualname__\u001b[39m\u001b[38;5;132;01m}\u001b[39;00m\u001b[38;5;124m must be\u001b[39m\u001b[38;5;124m\"\u001b[39m,\n\u001b[0;32m    201\u001b[0m         \u001b[38;5;28mstr\u001b[39m(e),\n\u001b[0;32m    202\u001b[0m     )\n",
      "File \u001b[1;32mC:\\Python311\\Lib\\site-packages\\sklearn\\metrics\\_classification.py:221\u001b[0m, in \u001b[0;36maccuracy_score\u001b[1;34m(y_true, y_pred, normalize, sample_weight)\u001b[0m\n\u001b[0;32m    155\u001b[0m \u001b[38;5;250m\u001b[39m\u001b[38;5;124;03m\"\"\"Accuracy classification score.\u001b[39;00m\n\u001b[0;32m    156\u001b[0m \n\u001b[0;32m    157\u001b[0m \u001b[38;5;124;03mIn multilabel classification, this function computes subset accuracy:\u001b[39;00m\n\u001b[1;32m   (...)\u001b[0m\n\u001b[0;32m    217\u001b[0m \u001b[38;5;124;03m0.5\u001b[39;00m\n\u001b[0;32m    218\u001b[0m \u001b[38;5;124;03m\"\"\"\u001b[39;00m\n\u001b[0;32m    220\u001b[0m \u001b[38;5;66;03m# Compute accuracy for each possible representation\u001b[39;00m\n\u001b[1;32m--> 221\u001b[0m y_type, y_true, y_pred \u001b[38;5;241m=\u001b[39m \u001b[43m_check_targets\u001b[49m\u001b[43m(\u001b[49m\u001b[43my_true\u001b[49m\u001b[43m,\u001b[49m\u001b[43m \u001b[49m\u001b[43my_pred\u001b[49m\u001b[43m)\u001b[49m\n\u001b[0;32m    222\u001b[0m check_consistent_length(y_true, y_pred, sample_weight)\n\u001b[0;32m    223\u001b[0m \u001b[38;5;28;01mif\u001b[39;00m y_type\u001b[38;5;241m.\u001b[39mstartswith(\u001b[38;5;124m\"\u001b[39m\u001b[38;5;124mmultilabel\u001b[39m\u001b[38;5;124m\"\u001b[39m):\n",
      "File \u001b[1;32mC:\\Python311\\Lib\\site-packages\\sklearn\\metrics\\_classification.py:86\u001b[0m, in \u001b[0;36m_check_targets\u001b[1;34m(y_true, y_pred)\u001b[0m\n\u001b[0;32m     59\u001b[0m \u001b[38;5;28;01mdef\u001b[39;00m \u001b[38;5;21m_check_targets\u001b[39m(y_true, y_pred):\n\u001b[0;32m     60\u001b[0m \u001b[38;5;250m    \u001b[39m\u001b[38;5;124;03m\"\"\"Check that y_true and y_pred belong to the same classification task.\u001b[39;00m\n\u001b[0;32m     61\u001b[0m \n\u001b[0;32m     62\u001b[0m \u001b[38;5;124;03m    This converts multiclass or binary types to a common shape, and raises a\u001b[39;00m\n\u001b[1;32m   (...)\u001b[0m\n\u001b[0;32m     84\u001b[0m \u001b[38;5;124;03m    y_pred : array or indicator matrix\u001b[39;00m\n\u001b[0;32m     85\u001b[0m \u001b[38;5;124;03m    \"\"\"\u001b[39;00m\n\u001b[1;32m---> 86\u001b[0m     \u001b[43mcheck_consistent_length\u001b[49m\u001b[43m(\u001b[49m\u001b[43my_true\u001b[49m\u001b[43m,\u001b[49m\u001b[43m \u001b[49m\u001b[43my_pred\u001b[49m\u001b[43m)\u001b[49m\n\u001b[0;32m     87\u001b[0m     type_true \u001b[38;5;241m=\u001b[39m type_of_target(y_true, input_name\u001b[38;5;241m=\u001b[39m\u001b[38;5;124m\"\u001b[39m\u001b[38;5;124my_true\u001b[39m\u001b[38;5;124m\"\u001b[39m)\n\u001b[0;32m     88\u001b[0m     type_pred \u001b[38;5;241m=\u001b[39m type_of_target(y_pred, input_name\u001b[38;5;241m=\u001b[39m\u001b[38;5;124m\"\u001b[39m\u001b[38;5;124my_pred\u001b[39m\u001b[38;5;124m\"\u001b[39m)\n",
      "File \u001b[1;32mC:\\Python311\\Lib\\site-packages\\sklearn\\utils\\validation.py:397\u001b[0m, in \u001b[0;36mcheck_consistent_length\u001b[1;34m(*arrays)\u001b[0m\n\u001b[0;32m    395\u001b[0m uniques \u001b[38;5;241m=\u001b[39m np\u001b[38;5;241m.\u001b[39munique(lengths)\n\u001b[0;32m    396\u001b[0m \u001b[38;5;28;01mif\u001b[39;00m \u001b[38;5;28mlen\u001b[39m(uniques) \u001b[38;5;241m>\u001b[39m \u001b[38;5;241m1\u001b[39m:\n\u001b[1;32m--> 397\u001b[0m     \u001b[38;5;28;01mraise\u001b[39;00m \u001b[38;5;167;01mValueError\u001b[39;00m(\n\u001b[0;32m    398\u001b[0m         \u001b[38;5;124m\"\u001b[39m\u001b[38;5;124mFound input variables with inconsistent numbers of samples: \u001b[39m\u001b[38;5;132;01m%r\u001b[39;00m\u001b[38;5;124m\"\u001b[39m\n\u001b[0;32m    399\u001b[0m         \u001b[38;5;241m%\u001b[39m [\u001b[38;5;28mint\u001b[39m(l) \u001b[38;5;28;01mfor\u001b[39;00m l \u001b[38;5;129;01min\u001b[39;00m lengths]\n\u001b[0;32m    400\u001b[0m     )\n",
      "\u001b[1;31mValueError\u001b[0m: Found input variables with inconsistent numbers of samples: [488, 732]"
     ]
    }
   ],
   "source": [
    "#nilai akurasi\n",
    "accuracy = accuracy_score(y_test, y_pred)\n",
    "print(accuracy)"
   ]
  },
  {
   "cell_type": "code",
   "execution_count": null,
   "metadata": {
    "colab": {
     "base_uri": "https://localhost:8080/"
    },
    "id": "L8Nv94ktpwMs",
    "outputId": "7f54510b-f44e-4de8-ea2d-91313eac7295"
   },
   "outputs": [
    {
     "name": "stdout",
     "output_type": "stream",
     "text": [
      "              precision    recall  f1-score   support\n",
      "\n",
      "         0.0       0.80      0.96      0.87        75\n",
      "         1.0       0.75      0.33      0.46        27\n",
      "\n",
      "    accuracy                           0.79       102\n",
      "   macro avg       0.78      0.65      0.67       102\n",
      "weighted avg       0.79      0.79      0.76       102\n",
      "\n"
     ]
    }
   ],
   "source": [
    "print(classification_report(y_test, y_pred))"
   ]
  },
  {
   "cell_type": "markdown",
   "metadata": {
    "id": "lnPftBJ63uz_"
   },
   "source": [
    "**Kesimpulannya, akurasi pada klasifikasi air minum sebesar 79% dengan k = 5**"
   ]
  }
 ],
 "metadata": {
  "colab": {
   "collapsed_sections": [],
   "name": "Tubes Data Mining.ipynb",
   "provenance": []
  },
  "kernelspec": {
   "display_name": "Python 3 (ipykernel)",
   "language": "python",
   "name": "python3"
  },
  "language_info": {
   "codemirror_mode": {
    "name": "ipython",
    "version": 3
   },
   "file_extension": ".py",
   "mimetype": "text/x-python",
   "name": "python",
   "nbconvert_exporter": "python",
   "pygments_lexer": "ipython3",
   "version": "3.11.4"
  }
 },
 "nbformat": 4,
 "nbformat_minor": 1
}
