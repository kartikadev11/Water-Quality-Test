{
 "cells": [
  {
   "cell_type": "markdown",
   "metadata": {
    "id": "h-RTQkqj2TZH"
   },
   "source": [
    "# Klasifikasi Kualitas Air untuk menentukan layak dan tidak layaknya air untuk di konsumsi"
   ]
  },
  {
   "cell_type": "markdown",
   "metadata": {
    "id": "wfDcrt21N0sK"
   },
   "source": [
    "**A. Akuisisi Data**\n",
    "\n",
    "---\n",
    "Data yang digunakan pada klasifikasi kualitas air ini di unduh dari dataset Water Quality yang ada pada  https://www.kaggle.com/adityakadiwal/water-potability\n",
    "\n",
    "\n",
    "dataset yang digunakan berjumlah 500 data yang terdiri dari 9 atribut independen (pH, Hardness, Solids, Chloramines, Sulfate, Conductivity, Organic Carbon, Trihalomethanes, Turbidity) dan 1 atribut dependen(Potability)."
   ]
  },
  {
   "cell_type": "markdown",
   "metadata": {
    "id": "bQvpMN2NPL_A"
   },
   "source": [
    "**B. Tahap Preprocessing**\n",
    "\n",
    "\n",
    "\n",
    "1.   Cek data duplikat\n",
    "2.   Handling missing value\n",
    "3.   Handling Outliers\n",
    "4.   Normalisasi\n",
    "\n"
   ]
  },
  {
   "cell_type": "code",
   "execution_count": 1,
   "metadata": {
    "colab": {
     "base_uri": "https://localhost:8080/"
    },
    "id": "ZPyDBBjKkbgf",
    "outputId": "53d73e08-4125-4cc5-fcbc-90fca131629c"
   },
   "outputs": [
    {
     "name": "stdout",
     "output_type": "stream",
     "text": [
      "Collecting scikit-learn-extraNote: you may need to restart the kernel to use updated packages.\n",
      "\n",
      "  Downloading scikit_learn_extra-0.3.0-cp311-cp311-win_amd64.whl (340 kB)\n",
      "                                              0.0/340.5 kB ? eta -:--:--\n",
      "     ---------                               81.9/340.5 kB 2.3 MB/s eta 0:00:01\n",
      "     ---------------------                  194.6/340.5 kB 2.4 MB/s eta 0:00:01\n",
      "     ------------------------------------   327.7/340.5 kB 2.5 MB/s eta 0:00:01\n",
      "     -------------------------------------- 340.5/340.5 kB 2.3 MB/s eta 0:00:00\n",
      "Requirement already satisfied: numpy>=1.13.3 in c:\\python311\\lib\\site-packages (from scikit-learn-extra) (1.24.3)\n",
      "Requirement already satisfied: scipy>=0.19.1 in c:\\python311\\lib\\site-packages (from scikit-learn-extra) (1.10.1)\n",
      "Requirement already satisfied: scikit-learn>=0.23.0 in c:\\python311\\lib\\site-packages (from scikit-learn-extra) (1.2.2)\n",
      "Requirement already satisfied: joblib>=1.1.1 in c:\\python311\\lib\\site-packages (from scikit-learn>=0.23.0->scikit-learn-extra) (1.2.0)\n",
      "Requirement already satisfied: threadpoolctl>=2.0.0 in c:\\python311\\lib\\site-packages (from scikit-learn>=0.23.0->scikit-learn-extra) (3.1.0)\n",
      "Installing collected packages: scikit-learn-extra\n",
      "Successfully installed scikit-learn-extra-0.3.0\n"
     ]
    }
   ],
   "source": [
    "pip install scikit-learn-extra"
   ]
  },
  {
   "cell_type": "code",
   "execution_count": 2,
   "metadata": {
    "colab": {
     "base_uri": "https://localhost:8080/"
    },
    "id": "KsLK_AavlY3f",
    "outputId": "14ce331f-4db3-4e56-d5f6-098708d7a462"
   },
   "outputs": [
    {
     "name": "stdout",
     "output_type": "stream",
     "text": [
      "Requirement already satisfied: scikit-learn-extra in c:\\python311\\lib\\site-packages (0.3.0)Note: you may need to restart the kernel to use updated packages.\n",
      "\n",
      "Requirement already satisfied: numpy>=1.13.3 in c:\\python311\\lib\\site-packages (from scikit-learn-extra) (1.24.3)\n",
      "Requirement already satisfied: scipy>=0.19.1 in c:\\python311\\lib\\site-packages (from scikit-learn-extra) (1.10.1)\n",
      "Requirement already satisfied: scikit-learn>=0.23.0 in c:\\python311\\lib\\site-packages (from scikit-learn-extra) (1.2.2)\n",
      "Requirement already satisfied: joblib>=1.1.1 in c:\\python311\\lib\\site-packages (from scikit-learn>=0.23.0->scikit-learn-extra) (1.2.0)\n",
      "Requirement already satisfied: threadpoolctl>=2.0.0 in c:\\python311\\lib\\site-packages (from scikit-learn>=0.23.0->scikit-learn-extra) (3.1.0)\n"
     ]
    }
   ],
   "source": [
    "pip install scikit-learn-extra"
   ]
  },
  {
   "cell_type": "code",
   "execution_count": 5,
   "metadata": {
    "id": "ctWBjYkYXGUZ"
   },
   "outputs": [
    {
     "name": "stdout",
     "output_type": "stream",
     "text": [
      "C:\\Python311\\python.exe\n"
     ]
    },
    {
     "ename": "ModuleNotFoundError",
     "evalue": "No module named 'matplotlib'",
     "output_type": "error",
     "traceback": [
      "\u001b[1;31m---------------------------------------------------------------------------\u001b[0m",
      "\u001b[1;31mModuleNotFoundError\u001b[0m                       Traceback (most recent call last)",
      "Cell \u001b[1;32mIn[5], line 5\u001b[0m\n\u001b[0;32m      3\u001b[0m \u001b[38;5;28;01mimport\u001b[39;00m \u001b[38;5;21;01mpandas\u001b[39;00m \u001b[38;5;28;01mas\u001b[39;00m \u001b[38;5;21;01mpd\u001b[39;00m\n\u001b[0;32m      4\u001b[0m \u001b[38;5;28;01mimport\u001b[39;00m \u001b[38;5;21;01mnumpy\u001b[39;00m \u001b[38;5;28;01mas\u001b[39;00m \u001b[38;5;21;01mnp\u001b[39;00m\n\u001b[1;32m----> 5\u001b[0m \u001b[38;5;28;01mimport\u001b[39;00m \u001b[38;5;21;01mmatplotlib\u001b[39;00m\u001b[38;5;21;01m.\u001b[39;00m\u001b[38;5;21;01mpyplot\u001b[39;00m \u001b[38;5;28;01mas\u001b[39;00m \u001b[38;5;21;01mplt\u001b[39;00m\n\u001b[0;32m      6\u001b[0m \u001b[38;5;28;01mfrom\u001b[39;00m \u001b[38;5;21;01msklearn\u001b[39;00m\u001b[38;5;21;01m.\u001b[39;00m\u001b[38;5;21;01mcluster\u001b[39;00m \u001b[38;5;28;01mimport\u001b[39;00m KMeans\n\u001b[0;32m      7\u001b[0m \u001b[38;5;28;01mimport\u001b[39;00m \u001b[38;5;21;01mseaborn\u001b[39;00m \u001b[38;5;28;01mas\u001b[39;00m \u001b[38;5;21;01msns\u001b[39;00m\n",
      "\u001b[1;31mModuleNotFoundError\u001b[0m: No module named 'matplotlib'"
     ]
    }
   ],
   "source": [
    "import sys\n",
    "print(sys.executable)\n",
    "import pandas as pd\n",
    "import numpy as np\n",
    "import matplotlib.pyplot as plt\n",
    "from sklearn.cluster import KMeans\n",
    "import seaborn as sns\n",
    "from sklearn.preprocessing import MinMaxScaler\n",
    "from sklearn_extra.cluster import KMedoids\n",
    "from scipy.spatial.distance import cdist\n",
    "from sklearn.neighbors import KNeighborsClassifier\n",
    "from sklearn.model_selection import train_test_split\n",
    "from sklearn.metrics import classification_report, confusion_matrix\n",
    "from sklearn.metrics import accuracy_score"
   ]
  },
  {
   "cell_type": "code",
   "execution_count": null,
   "metadata": {
    "colab": {
     "base_uri": "https://localhost:8080/"
    },
    "id": "_AaZ2lIIXV7z",
    "outputId": "c2638e10-1afc-4979-ed75-921c12b236dc"
   },
   "outputs": [
    {
     "name": "stdout",
     "output_type": "stream",
     "text": [
      "           ph    Hardness        Solids  ...  Trihalomethanes  Turbidity  Potability\n",
      "0         NaN  204.890455  20791.318981  ...        86.990970   2.963135           0\n",
      "1    3.716080  129.422921  18630.057858  ...        56.329076   4.500656           0\n",
      "2    8.099124  224.236259  19909.541732  ...        66.420093   3.055934           0\n",
      "3    8.316766  214.373394  22018.417441  ...       100.341674   4.628771           0\n",
      "4    9.092223  181.101509  17978.986339  ...        31.997993   4.075075           0\n",
      "..        ...         ...           ...  ...              ...        ...         ...\n",
      "495  6.340809  158.342741  15288.213774  ...        38.103917   5.458610           0\n",
      "496  5.980357  181.258705  11826.294275  ...        60.206381   4.247240           0\n",
      "497  7.605979  172.198136  10930.055671  ...        51.643780   3.242850           0\n",
      "498  6.427512  178.326555  25993.711406  ...        60.736723   6.032995           0\n",
      "499       NaN  196.248857  17909.365782  ...        57.734652   3.888235           0\n",
      "\n",
      "[500 rows x 10 columns]\n"
     ]
    }
   ],
   "source": [
    "# Baca data file csv\n",
    "data = pd.read_csv('water_quality.csv')\n",
    "print(data)"
   ]
  },
  {
   "cell_type": "code",
   "execution_count": 4,
   "metadata": {
    "colab": {
     "base_uri": "https://localhost:8080/"
    },
    "id": "WGiVUaIBNMUp",
    "outputId": "06236e52-ec2c-48d7-8602-5236209d22e9"
   },
   "outputs": [
    {
     "ename": "NameError",
     "evalue": "name 'data' is not defined",
     "output_type": "error",
     "traceback": [
      "\u001b[1;31m---------------------------------------------------------------------------\u001b[0m",
      "\u001b[1;31mNameError\u001b[0m                                 Traceback (most recent call last)",
      "Cell \u001b[1;32mIn[4], line 1\u001b[0m\n\u001b[1;32m----> 1\u001b[0m \u001b[43mdata\u001b[49m\u001b[38;5;241m.\u001b[39mdtypes\n",
      "\u001b[1;31mNameError\u001b[0m: name 'data' is not defined"
     ]
    }
   ],
   "source": [
    "data.dtypes"
   ]
  },
  {
   "cell_type": "code",
   "execution_count": null,
   "metadata": {
    "id": "34WlJ4cldJw8"
   },
   "outputs": [],
   "source": [
    "def pieChartPlotter(dataset, columnName):\n",
    "    values = dataset[columnName].value_counts()\n",
    "    labels = dataset[columnName].unique()\n",
    "    pie, ax = plt.subplots(figsize=[10, 6])\n",
    "\n",
    "    patches, texts, autotexts = ax.pie(values, labels=labels, autopct='%1.2f%%', shadow=True, pctdistance=.5,explode=[0.06]*dataset[columnName].unique()\n",
    "                                       )\n",
    "\n",
    "    plt.legend(patches, labels, loc=\"best\")\n",
    "    plt.title(columnName, color='white', fontsize=14)\n",
    "    plt.setp(texts, color='white', fontsize=20)\n",
    "    plt.setp(autotexts, size=10, color='black')\n",
    "    autotexts[1].set_color('black')\n",
    "    plt.axis('equal')\n",
    "    plt.tight_layout()\n",
    "    plt.show()"
   ]
  },
  {
   "cell_type": "code",
   "execution_count": null,
   "metadata": {
    "colab": {
     "base_uri": "https://localhost:8080/",
     "height": 441
    },
    "id": "w2svbirudKnZ",
    "outputId": "bfd49495-a105-4c78-b9d3-5dc9739ddc29"
   },
   "outputs": [
    {
     "data": {
      "image/png": "[encoded data removed]",
      "text/plain": [
       "<Figure size 720x432 with 1 Axes>"
      ]
     },
     "metadata": {
      "tags": []
     },
     "output_type": "display_data"
    }
   ],
   "source": [
    "pieChartPlotter(data, 'Potability') "
   ]
  },
  {
   "cell_type": "code",
   "execution_count": null,
   "metadata": {
    "colab": {
     "base_uri": "https://localhost:8080/"
    },
    "id": "k0-8sYcjcPg9",
    "outputId": "476fb86c-e986-4b39-f4ac-8fb35df070c8"
   },
   "outputs": [
    {
     "data": {
      "text/plain": [
       "0      False\n",
       "1      False\n",
       "2      False\n",
       "3      False\n",
       "4      False\n",
       "       ...  \n",
       "495    False\n",
       "496    False\n",
       "497    False\n",
       "498    False\n",
       "499    False\n",
       "Length: 500, dtype: bool"
      ]
     },
     "execution_count": 9,
     "metadata": {
      "tags": []
     },
     "output_type": "execute_result"
    }
   ],
   "source": [
    "#Cek data duplikat\n",
    "data_double = data.duplicated(subset=None, keep=False)\n",
    "(data_double)"
   ]
  },
  {
   "cell_type": "code",
   "execution_count": null,
   "metadata": {
    "colab": {
     "base_uri": "https://localhost:8080/",
     "height": 419
    },
    "id": "MufpxaXldIKS",
    "outputId": "6ff407a2-36eb-46c5-e0de-09d05778f63a"
   },
   "outputs": [
    {
     "data": {
      "text/html": [
       "<div>\n",
       "<style scoped>\n",
       "    .dataframe tbody tr th:only-of-type {\n",
       "        vertical-align: middle;\n",
       "    }\n",
       "\n",
       "    .dataframe tbody tr th {\n",
       "        vertical-align: top;\n",
       "    }\n",
       "\n",
       "    .dataframe thead th {\n",
       "        text-align: right;\n",
       "    }\n",
       "</style>\n",
       "<table border=\"1\" class=\"dataframe\">\n",
       "  <thead>\n",
       "    <tr style=\"text-align: right;\">\n",
       "      <th></th>\n",
       "      <th>ph</th>\n",
       "      <th>Hardness</th>\n",
       "      <th>Solids</th>\n",
       "      <th>Chloramines</th>\n",
       "      <th>Sulfate</th>\n",
       "      <th>Conductivity</th>\n",
       "      <th>Organic_carbon</th>\n",
       "      <th>Trihalomethanes</th>\n",
       "      <th>Turbidity</th>\n",
       "      <th>Potability</th>\n",
       "      <th>hasil</th>\n",
       "    </tr>\n",
       "  </thead>\n",
       "  <tbody>\n",
       "    <tr>\n",
       "      <th>0</th>\n",
       "      <td>NaN</td>\n",
       "      <td>204.890455</td>\n",
       "      <td>20791.318981</td>\n",
       "      <td>7.300212</td>\n",
       "      <td>368.516441</td>\n",
       "      <td>564.308654</td>\n",
       "      <td>10.379783</td>\n",
       "      <td>86.990970</td>\n",
       "      <td>2.963135</td>\n",
       "      <td>0</td>\n",
       "      <td>False</td>\n",
       "    </tr>\n",
       "    <tr>\n",
       "      <th>1</th>\n",
       "      <td>3.716080</td>\n",
       "      <td>129.422921</td>\n",
       "      <td>18630.057858</td>\n",
       "      <td>6.635246</td>\n",
       "      <td>NaN</td>\n",
       "      <td>592.885359</td>\n",
       "      <td>15.180013</td>\n",
       "      <td>56.329076</td>\n",
       "      <td>4.500656</td>\n",
       "      <td>0</td>\n",
       "      <td>False</td>\n",
       "    </tr>\n",
       "    <tr>\n",
       "      <th>2</th>\n",
       "      <td>8.099124</td>\n",
       "      <td>224.236259</td>\n",
       "      <td>19909.541732</td>\n",
       "      <td>9.275884</td>\n",
       "      <td>NaN</td>\n",
       "      <td>418.606213</td>\n",
       "      <td>16.868637</td>\n",
       "      <td>66.420093</td>\n",
       "      <td>3.055934</td>\n",
       "      <td>0</td>\n",
       "      <td>False</td>\n",
       "    </tr>\n",
       "    <tr>\n",
       "      <th>3</th>\n",
       "      <td>8.316766</td>\n",
       "      <td>214.373394</td>\n",
       "      <td>22018.417441</td>\n",
       "      <td>8.059332</td>\n",
       "      <td>356.886136</td>\n",
       "      <td>363.266516</td>\n",
       "      <td>18.436524</td>\n",
       "      <td>100.341674</td>\n",
       "      <td>4.628771</td>\n",
       "      <td>0</td>\n",
       "      <td>False</td>\n",
       "    </tr>\n",
       "    <tr>\n",
       "      <th>4</th>\n",
       "      <td>9.092223</td>\n",
       "      <td>181.101509</td>\n",
       "      <td>17978.986339</td>\n",
       "      <td>6.546600</td>\n",
       "      <td>310.135738</td>\n",
       "      <td>398.410813</td>\n",
       "      <td>11.558279</td>\n",
       "      <td>31.997993</td>\n",
       "      <td>4.075075</td>\n",
       "      <td>0</td>\n",
       "      <td>False</td>\n",
       "    </tr>\n",
       "    <tr>\n",
       "      <th>...</th>\n",
       "      <td>...</td>\n",
       "      <td>...</td>\n",
       "      <td>...</td>\n",
       "      <td>...</td>\n",
       "      <td>...</td>\n",
       "      <td>...</td>\n",
       "      <td>...</td>\n",
       "      <td>...</td>\n",
       "      <td>...</td>\n",
       "      <td>...</td>\n",
       "      <td>...</td>\n",
       "    </tr>\n",
       "    <tr>\n",
       "      <th>495</th>\n",
       "      <td>6.340809</td>\n",
       "      <td>158.342741</td>\n",
       "      <td>15288.213774</td>\n",
       "      <td>7.599752</td>\n",
       "      <td>342.447700</td>\n",
       "      <td>334.937302</td>\n",
       "      <td>9.237118</td>\n",
       "      <td>38.103917</td>\n",
       "      <td>5.458610</td>\n",
       "      <td>0</td>\n",
       "      <td>False</td>\n",
       "    </tr>\n",
       "    <tr>\n",
       "      <th>496</th>\n",
       "      <td>5.980357</td>\n",
       "      <td>181.258705</td>\n",
       "      <td>11826.294275</td>\n",
       "      <td>3.688504</td>\n",
       "      <td>356.166613</td>\n",
       "      <td>543.347976</td>\n",
       "      <td>8.828689</td>\n",
       "      <td>60.206381</td>\n",
       "      <td>4.247240</td>\n",
       "      <td>0</td>\n",
       "      <td>False</td>\n",
       "    </tr>\n",
       "    <tr>\n",
       "      <th>497</th>\n",
       "      <td>7.605979</td>\n",
       "      <td>172.198136</td>\n",
       "      <td>10930.055671</td>\n",
       "      <td>8.432639</td>\n",
       "      <td>NaN</td>\n",
       "      <td>400.706161</td>\n",
       "      <td>12.560446</td>\n",
       "      <td>51.643780</td>\n",
       "      <td>3.242850</td>\n",
       "      <td>0</td>\n",
       "      <td>False</td>\n",
       "    </tr>\n",
       "    <tr>\n",
       "      <th>498</th>\n",
       "      <td>6.427512</td>\n",
       "      <td>178.326555</td>\n",
       "      <td>25993.711406</td>\n",
       "      <td>7.294554</td>\n",
       "      <td>329.695223</td>\n",
       "      <td>566.754724</td>\n",
       "      <td>11.974270</td>\n",
       "      <td>60.736723</td>\n",
       "      <td>6.032995</td>\n",
       "      <td>0</td>\n",
       "      <td>False</td>\n",
       "    </tr>\n",
       "    <tr>\n",
       "      <th>499</th>\n",
       "      <td>NaN</td>\n",
       "      <td>196.248857</td>\n",
       "      <td>17909.365782</td>\n",
       "      <td>3.672271</td>\n",
       "      <td>NaN</td>\n",
       "      <td>417.287315</td>\n",
       "      <td>14.557068</td>\n",
       "      <td>57.734652</td>\n",
       "      <td>3.888235</td>\n",
       "      <td>0</td>\n",
       "      <td>False</td>\n",
       "    </tr>\n",
       "  </tbody>\n",
       "</table>\n",
       "<p>500 rows × 11 columns</p>\n",
       "</div>"
      ],
      "text/plain": [
       "           ph    Hardness        Solids  ...  Turbidity  Potability  hasil\n",
       "0         NaN  204.890455  20791.318981  ...   2.963135           0  False\n",
       "1    3.716080  129.422921  18630.057858  ...   4.500656           0  False\n",
       "2    8.099124  224.236259  19909.541732  ...   3.055934           0  False\n",
       "3    8.316766  214.373394  22018.417441  ...   4.628771           0  False\n",
       "4    9.092223  181.101509  17978.986339  ...   4.075075           0  False\n",
       "..        ...         ...           ...  ...        ...         ...    ...\n",
       "495  6.340809  158.342741  15288.213774  ...   5.458610           0  False\n",
       "496  5.980357  181.258705  11826.294275  ...   4.247240           0  False\n",
       "497  7.605979  172.198136  10930.055671  ...   3.242850           0  False\n",
       "498  6.427512  178.326555  25993.711406  ...   6.032995           0  False\n",
       "499       NaN  196.248857  17909.365782  ...   3.888235           0  False\n",
       "\n",
       "[500 rows x 11 columns]"
      ]
     },
     "execution_count": 10,
     "metadata": {
      "tags": []
     },
     "output_type": "execute_result"
    }
   ],
   "source": [
    "data_double2=data.copy()\n",
    "data_double2['hasil']=data.duplicated( subset=None, keep=False)\n",
    "data_double2\n"
   ]
  },
  {
   "cell_type": "markdown",
   "metadata": {
    "id": "gNCji1UFdv9C"
   },
   "source": [
    "Setelah pengecekan data duplikasi hasilnya tidak terdapat data yang duplikat"
   ]
  },
  {
   "cell_type": "code",
   "execution_count": null,
   "metadata": {
    "colab": {
     "base_uri": "https://localhost:8080/"
    },
    "id": "3HB67xTeYZOM",
    "outputId": "c72f4778-e78e-45db-ba7e-966104938a8f"
   },
   "outputs": [
    {
     "data": {
      "text/plain": [
       "ph                  71\n",
       "Hardness             0\n",
       "Solids               0\n",
       "Chloramines          0\n",
       "Sulfate            117\n",
       "Conductivity         0\n",
       "Organic_carbon       0\n",
       "Trihalomethanes     23\n",
       "Turbidity            0\n",
       "Potability           0\n",
       "dtype: int64"
      ]
     },
     "execution_count": 11,
     "metadata": {
      "tags": []
     },
     "output_type": "execute_result"
    }
   ],
   "source": [
    "#Cek apakah kolom pada dataset terdapat missing value\n",
    "data.isna().sum()"
   ]
  },
  {
   "cell_type": "markdown",
   "metadata": {
    "id": "Gguu_JzXY9Yg"
   },
   "source": [
    "Setelah dicek pada kolom pH , Sulfates dan Trihalomethanes terdapat missing value."
   ]
  },
  {
   "cell_type": "code",
   "execution_count": null,
   "metadata": {
    "colab": {
     "base_uri": "https://localhost:8080/",
     "height": 297
    },
    "id": "9A18FJ-gYv1A",
    "outputId": "8773128d-0ff8-4af6-c64d-e41683174023"
   },
   "outputs": [
    {
     "data": {
      "text/html": [
       "<div>\n",
       "<style scoped>\n",
       "    .dataframe tbody tr th:only-of-type {\n",
       "        vertical-align: middle;\n",
       "    }\n",
       "\n",
       "    .dataframe tbody tr th {\n",
       "        vertical-align: top;\n",
       "    }\n",
       "\n",
       "    .dataframe thead th {\n",
       "        text-align: right;\n",
       "    }\n",
       "</style>\n",
       "<table border=\"1\" class=\"dataframe\">\n",
       "  <thead>\n",
       "    <tr style=\"text-align: right;\">\n",
       "      <th></th>\n",
       "      <th>ph</th>\n",
       "      <th>Hardness</th>\n",
       "      <th>Solids</th>\n",
       "      <th>Chloramines</th>\n",
       "      <th>Sulfate</th>\n",
       "      <th>Conductivity</th>\n",
       "      <th>Organic_carbon</th>\n",
       "      <th>Trihalomethanes</th>\n",
       "      <th>Turbidity</th>\n",
       "      <th>Potability</th>\n",
       "    </tr>\n",
       "  </thead>\n",
       "  <tbody>\n",
       "    <tr>\n",
       "      <th>count</th>\n",
       "      <td>429.000000</td>\n",
       "      <td>500.000000</td>\n",
       "      <td>500.000000</td>\n",
       "      <td>500.000000</td>\n",
       "      <td>383.000000</td>\n",
       "      <td>500.000000</td>\n",
       "      <td>500.000000</td>\n",
       "      <td>477.000000</td>\n",
       "      <td>500.000000</td>\n",
       "      <td>500.000000</td>\n",
       "    </tr>\n",
       "    <tr>\n",
       "      <th>mean</th>\n",
       "      <td>7.131780</td>\n",
       "      <td>198.329436</td>\n",
       "      <td>22073.142478</td>\n",
       "      <td>7.170659</td>\n",
       "      <td>329.774279</td>\n",
       "      <td>429.068968</td>\n",
       "      <td>14.188266</td>\n",
       "      <td>66.116905</td>\n",
       "      <td>3.994571</td>\n",
       "      <td>0.320000</td>\n",
       "    </tr>\n",
       "    <tr>\n",
       "      <th>std</th>\n",
       "      <td>1.691152</td>\n",
       "      <td>42.004955</td>\n",
       "      <td>8518.317850</td>\n",
       "      <td>1.756387</td>\n",
       "      <td>42.613868</td>\n",
       "      <td>81.319126</td>\n",
       "      <td>3.299892</td>\n",
       "      <td>16.583461</td>\n",
       "      <td>0.789299</td>\n",
       "      <td>0.466943</td>\n",
       "    </tr>\n",
       "    <tr>\n",
       "      <th>min</th>\n",
       "      <td>1.844538</td>\n",
       "      <td>47.432000</td>\n",
       "      <td>2552.962804</td>\n",
       "      <td>0.530351</td>\n",
       "      <td>180.206746</td>\n",
       "      <td>245.859632</td>\n",
       "      <td>5.315287</td>\n",
       "      <td>8.175876</td>\n",
       "      <td>1.943319</td>\n",
       "      <td>0.000000</td>\n",
       "    </tr>\n",
       "    <tr>\n",
       "      <th>25%</th>\n",
       "      <td>6.096180</td>\n",
       "      <td>173.370911</td>\n",
       "      <td>15783.441669</td>\n",
       "      <td>6.092310</td>\n",
       "      <td>307.182189</td>\n",
       "      <td>369.874822</td>\n",
       "      <td>11.884570</td>\n",
       "      <td>55.958006</td>\n",
       "      <td>3.473994</td>\n",
       "      <td>0.000000</td>\n",
       "    </tr>\n",
       "    <tr>\n",
       "      <th>50%</th>\n",
       "      <td>7.078659</td>\n",
       "      <td>199.587399</td>\n",
       "      <td>21193.101485</td>\n",
       "      <td>7.208396</td>\n",
       "      <td>329.695223</td>\n",
       "      <td>425.305141</td>\n",
       "      <td>14.161522</td>\n",
       "      <td>66.420093</td>\n",
       "      <td>3.991001</td>\n",
       "      <td>0.000000</td>\n",
       "    </tr>\n",
       "    <tr>\n",
       "      <th>75%</th>\n",
       "      <td>8.153210</td>\n",
       "      <td>224.653406</td>\n",
       "      <td>27375.939561</td>\n",
       "      <td>8.256031</td>\n",
       "      <td>355.790264</td>\n",
       "      <td>484.851151</td>\n",
       "      <td>16.517104</td>\n",
       "      <td>77.529945</td>\n",
       "      <td>4.517545</td>\n",
       "      <td>1.000000</td>\n",
       "    </tr>\n",
       "    <tr>\n",
       "      <th>max</th>\n",
       "      <td>13.175402</td>\n",
       "      <td>323.124000</td>\n",
       "      <td>52318.917298</td>\n",
       "      <td>13.127000</td>\n",
       "      <td>444.970552</td>\n",
       "      <td>695.369528</td>\n",
       "      <td>23.917601</td>\n",
       "      <td>112.622733</td>\n",
       "      <td>6.739000</td>\n",
       "      <td>1.000000</td>\n",
       "    </tr>\n",
       "  </tbody>\n",
       "</table>\n",
       "</div>"
      ],
      "text/plain": [
       "               ph    Hardness  ...   Turbidity  Potability\n",
       "count  429.000000  500.000000  ...  500.000000  500.000000\n",
       "mean     7.131780  198.329436  ...    3.994571    0.320000\n",
       "std      1.691152   42.004955  ...    0.789299    0.466943\n",
       "min      1.844538   47.432000  ...    1.943319    0.000000\n",
       "25%      6.096180  173.370911  ...    3.473994    0.000000\n",
       "50%      7.078659  199.587399  ...    3.991001    0.000000\n",
       "75%      8.153210  224.653406  ...    4.517545    1.000000\n",
       "max     13.175402  323.124000  ...    6.739000    1.000000\n",
       "\n",
       "[8 rows x 10 columns]"
      ]
     },
     "execution_count": 12,
     "metadata": {
      "tags": []
     },
     "output_type": "execute_result"
    }
   ],
   "source": [
    "# Melihat karakteristik pada setiap kolom\n",
    "data.describe()"
   ]
  },
  {
   "cell_type": "markdown",
   "metadata": {
    "id": "U6LFOqnka4qk"
   },
   "source": [
    "Kemudian dilakukan handling missing value menggunakan nilai rata rata"
   ]
  },
  {
   "cell_type": "code",
   "execution_count": null,
   "metadata": {
    "id": "dTlonbBWZrmK"
   },
   "outputs": [],
   "source": [
    "data['ph'] = data['ph'].fillna(data['ph'].mean())\n",
    "data['Sulfate'] = data['Sulfate'].fillna(data['Sulfate'].mean())\n",
    "data['Trihalomethanes'] = data['Trihalomethanes'].fillna(data['Trihalomethanes'].mean())"
   ]
  },
  {
   "cell_type": "markdown",
   "metadata": {
    "id": "hte6brt6bvB1"
   },
   "source": [
    "Kemudian dicek kembali apakah imputation missing value berhasil"
   ]
  },
  {
   "cell_type": "code",
   "execution_count": null,
   "metadata": {
    "colab": {
     "base_uri": "https://localhost:8080/"
    },
    "id": "scfuEIfoYscN",
    "outputId": "8ff43c72-0acc-485e-9e08-b9f85c7513a7"
   },
   "outputs": [
    {
     "data": {
      "text/plain": [
       "ph                 0\n",
       "Hardness           0\n",
       "Solids             0\n",
       "Chloramines        0\n",
       "Sulfate            0\n",
       "Conductivity       0\n",
       "Organic_carbon     0\n",
       "Trihalomethanes    0\n",
       "Turbidity          0\n",
       "Potability         0\n",
       "dtype: int64"
      ]
     },
     "execution_count": 14,
     "metadata": {
      "tags": []
     },
     "output_type": "execute_result"
    }
   ],
   "source": [
    "data.isna().sum()"
   ]
  },
  {
   "cell_type": "code",
   "execution_count": null,
   "metadata": {
    "colab": {
     "base_uri": "https://localhost:8080/",
     "height": 1000
    },
    "id": "20fYJ6Yy5qwm",
    "outputId": "931754dc-44ba-48dc-d02f-386921034974"
   },
   "outputs": [
    {
     "data": {
      "image/png": "[encoded data removed]",
      "text/plain": [
       "<Figure size 1440x1440 with 10 Axes>"
      ]
     },
     "metadata": {
      "needs_background": "light",
      "tags": []
     },
     "output_type": "display_data"
    }
   ],
   "source": [
    "#Melihat data outliers\n",
    "plt.figure(figsize=(20,20))\n",
    "for i,column in enumerate(data.columns,1):\n",
    "    plt.subplot(5,2,i)\n",
    "    sns.boxplot(data = data,x = data[column],orient = 'h')\n",
    "plt.show()"
   ]
  },
  {
   "cell_type": "markdown",
   "metadata": {
    "id": "rokjZ9hJjxDs"
   },
   "source": [
    "Pencilan pencilan data dibersihkan berdasarkan nilai yang lebih besar dari (Q3 + 1.5*IQR) atau lebih kecil dari (Q1–1.5*IQR). "
   ]
  },
  {
   "cell_type": "code",
   "execution_count": null,
   "metadata": {
    "id": "oKvIOWO9jOnv"
   },
   "outputs": [],
   "source": [
    "#fungsi untuk menentukan index nilai yang outliers\n",
    "def outliers(df_in, col_name):\n",
    "  q1 = df_in[col_name].quantile(0.25)\n",
    "  q3 = df_in[col_name].quantile(0.75)\n",
    "  iqr = q3-q1 #Interquartile range\n",
    "  fence_low = q1-1.5*iqr\n",
    "  fence_high = q3+1.5*iqr\n",
    "  df_out = df_in.index[(df_in[col_name] < fence_low) | (df_in[col_name] > fence_high)]\n",
    "  return df_out\n"
   ]
  },
  {
   "cell_type": "code",
   "execution_count": null,
   "metadata": {
    "id": "aTHmJJPTj2CZ"
   },
   "outputs": [],
   "source": [
    "#menghapus data baris yg outliers pada Kolom ph\n",
    "index_list = []\n",
    "index_list.extend(outliers(data, \"ph\"))\n",
    "data.drop(index_list, axis = 0, inplace=True)\n",
    "#menghapus data baris yg outliers pada Kolom Hardness\n",
    "index_list = []\n",
    "index_list.extend(outliers(data, \"Hardness\"))\n",
    "data.drop(index_list, axis = 0, inplace=True)\n",
    "#menghapus data baris yg outliers pada Kolom Solids\n",
    "index_list = []\n",
    "index_list.extend(outliers(data, \"Solids\"))\n",
    "data.drop(index_list, axis = 0, inplace=True)\n",
    "#menghapus data baris yg outliers pada Kolom Chloramines\n",
    "index_list = []\n",
    "index_list.extend(outliers(data, \"Chloramines\"))\n",
    "data.drop(index_list, axis = 0, inplace=True)\n",
    "#menghapus data baris yg outliers pada Kolom Sulfate\n",
    "index_list = []\n",
    "index_list.extend(outliers(data, \"Sulfate\"))\n",
    "data.drop(index_list, axis = 0, inplace=True)\n",
    "#menghapus data baris yg outliers pada Kolom Conductivity\n",
    "index_list = []\n",
    "index_list.extend(outliers(data, \"Conductivity\"))\n",
    "data.drop(index_list, axis = 0, inplace=True)\n",
    "#menghapus data baris yg outliers pada Kolom Organic_carbon\n",
    "index_list = []\n",
    "index_list.extend(outliers(data, \"Organic_carbon\"))\n",
    "data.drop(index_list, axis = 0, inplace=True)\n",
    "#menghapus data baris yg outliers pada Kolom Trihalomethanes\n",
    "index_list = []\n",
    "index_list.extend(outliers(data, \"Trihalomethanes\"))\n",
    "data.drop(index_list, axis = 0, inplace=True)\n",
    "#menghapus data baris yg outliers pada Kolom Turbidity\n",
    "index_list = []\n",
    "index_list.extend(outliers(data, \"Turbidity\"))\n",
    "data.drop(index_list, axis = 0, inplace=True)"
   ]
  },
  {
   "cell_type": "code",
   "execution_count": null,
   "metadata": {
    "colab": {
     "base_uri": "https://localhost:8080/",
     "height": 1000
    },
    "id": "WURfnW66kzsA",
    "outputId": "c804c5c8-6683-4293-cee4-b5f9f959f342"
   },
   "outputs": [
    {
     "data": {
      "image/png": "[encoded data removed]",
      "text/plain": [
       "<Figure size 1440x1440 with 10 Axes>"
      ]
     },
     "metadata": {
      "needs_background": "light",
      "tags": []
     },
     "output_type": "display_data"
    }
   ],
   "source": [
    "#Cek kemabli outliers\n",
    "#Melihat data outliers\n",
    "plt.figure(figsize=(20,20))\n",
    "for i,column in enumerate(data.columns,1):\n",
    "    plt.subplot(5,2,i)\n",
    "    sns.boxplot(data = data,x = data[column],orient = 'h')\n",
    "plt.show()"
   ]
  },
  {
   "cell_type": "code",
   "execution_count": null,
   "metadata": {
    "colab": {
     "base_uri": "https://localhost:8080/",
     "height": 297
    },
    "id": "0ukgoBCVlCn8",
    "outputId": "e6403a52-d68f-4e32-eb96-7046f28a8fe8"
   },
   "outputs": [
    {
     "data": {
      "text/html": [
       "<div>\n",
       "<style scoped>\n",
       "    .dataframe tbody tr th:only-of-type {\n",
       "        vertical-align: middle;\n",
       "    }\n",
       "\n",
       "    .dataframe tbody tr th {\n",
       "        vertical-align: top;\n",
       "    }\n",
       "\n",
       "    .dataframe thead th {\n",
       "        text-align: right;\n",
       "    }\n",
       "</style>\n",
       "<table border=\"1\" class=\"dataframe\">\n",
       "  <thead>\n",
       "    <tr style=\"text-align: right;\">\n",
       "      <th></th>\n",
       "      <th>ph</th>\n",
       "      <th>Hardness</th>\n",
       "      <th>Solids</th>\n",
       "      <th>Chloramines</th>\n",
       "      <th>Sulfate</th>\n",
       "      <th>Conductivity</th>\n",
       "      <th>Organic_carbon</th>\n",
       "      <th>Trihalomethanes</th>\n",
       "      <th>Turbidity</th>\n",
       "      <th>Potability</th>\n",
       "    </tr>\n",
       "  </thead>\n",
       "  <tbody>\n",
       "    <tr>\n",
       "      <th>count</th>\n",
       "      <td>407.000000</td>\n",
       "      <td>407.000000</td>\n",
       "      <td>407.000000</td>\n",
       "      <td>407.000000</td>\n",
       "      <td>407.000000</td>\n",
       "      <td>407.000000</td>\n",
       "      <td>407.000000</td>\n",
       "      <td>407.000000</td>\n",
       "      <td>407.000000</td>\n",
       "      <td>407.000000</td>\n",
       "    </tr>\n",
       "    <tr>\n",
       "      <th>mean</th>\n",
       "      <td>7.139120</td>\n",
       "      <td>196.737222</td>\n",
       "      <td>21306.347196</td>\n",
       "      <td>7.048885</td>\n",
       "      <td>331.548055</td>\n",
       "      <td>426.371867</td>\n",
       "      <td>14.246424</td>\n",
       "      <td>66.231957</td>\n",
       "      <td>3.980127</td>\n",
       "      <td>0.262899</td>\n",
       "    </tr>\n",
       "    <tr>\n",
       "      <th>std</th>\n",
       "      <td>1.346631</td>\n",
       "      <td>36.474075</td>\n",
       "      <td>7447.922046</td>\n",
       "      <td>1.523448</td>\n",
       "      <td>25.754242</td>\n",
       "      <td>80.590700</td>\n",
       "      <td>3.261026</td>\n",
       "      <td>15.253367</td>\n",
       "      <td>0.793937</td>\n",
       "      <td>0.440750</td>\n",
       "    </tr>\n",
       "    <tr>\n",
       "      <th>min</th>\n",
       "      <td>3.716080</td>\n",
       "      <td>103.173587</td>\n",
       "      <td>2552.962804</td>\n",
       "      <td>2.981379</td>\n",
       "      <td>266.908428</td>\n",
       "      <td>245.859632</td>\n",
       "      <td>6.016337</td>\n",
       "      <td>26.505484</td>\n",
       "      <td>1.943319</td>\n",
       "      <td>0.000000</td>\n",
       "    </tr>\n",
       "    <tr>\n",
       "      <th>25%</th>\n",
       "      <td>6.320345</td>\n",
       "      <td>174.140839</td>\n",
       "      <td>15501.533019</td>\n",
       "      <td>6.107864</td>\n",
       "      <td>319.331764</td>\n",
       "      <td>368.406703</td>\n",
       "      <td>11.969689</td>\n",
       "      <td>56.725445</td>\n",
       "      <td>3.449234</td>\n",
       "      <td>0.000000</td>\n",
       "    </tr>\n",
       "    <tr>\n",
       "      <th>50%</th>\n",
       "      <td>7.131780</td>\n",
       "      <td>199.107886</td>\n",
       "      <td>20868.627979</td>\n",
       "      <td>7.121477</td>\n",
       "      <td>329.774279</td>\n",
       "      <td>422.817556</td>\n",
       "      <td>14.213794</td>\n",
       "      <td>66.116905</td>\n",
       "      <td>3.977362</td>\n",
       "      <td>0.000000</td>\n",
       "    </tr>\n",
       "    <tr>\n",
       "      <th>75%</th>\n",
       "      <td>7.881243</td>\n",
       "      <td>221.053674</td>\n",
       "      <td>26695.863978</td>\n",
       "      <td>8.068555</td>\n",
       "      <td>345.097016</td>\n",
       "      <td>482.050995</td>\n",
       "      <td>16.527454</td>\n",
       "      <td>76.497953</td>\n",
       "      <td>4.537198</td>\n",
       "      <td>1.000000</td>\n",
       "    </tr>\n",
       "    <tr>\n",
       "      <th>max</th>\n",
       "      <td>10.464502</td>\n",
       "      <td>284.098352</td>\n",
       "      <td>41065.234765</td>\n",
       "      <td>11.170789</td>\n",
       "      <td>395.389490</td>\n",
       "      <td>629.281248</td>\n",
       "      <td>23.373265</td>\n",
       "      <td>106.037222</td>\n",
       "      <td>6.038185</td>\n",
       "      <td>1.000000</td>\n",
       "    </tr>\n",
       "  </tbody>\n",
       "</table>\n",
       "</div>"
      ],
      "text/plain": [
       "               ph    Hardness  ...   Turbidity  Potability\n",
       "count  407.000000  407.000000  ...  407.000000  407.000000\n",
       "mean     7.139120  196.737222  ...    3.980127    0.262899\n",
       "std      1.346631   36.474075  ...    0.793937    0.440750\n",
       "min      3.716080  103.173587  ...    1.943319    0.000000\n",
       "25%      6.320345  174.140839  ...    3.449234    0.000000\n",
       "50%      7.131780  199.107886  ...    3.977362    0.000000\n",
       "75%      7.881243  221.053674  ...    4.537198    1.000000\n",
       "max     10.464502  284.098352  ...    6.038185    1.000000\n",
       "\n",
       "[8 rows x 10 columns]"
      ]
     },
     "execution_count": 19,
     "metadata": {
      "tags": []
     },
     "output_type": "execute_result"
    }
   ],
   "source": [
    "data.describe()"
   ]
  },
  {
   "cell_type": "markdown",
   "metadata": {
    "id": "g45cnZ9NkZFw"
   },
   "source": [
    "Langkah selanjutnya normalisasi dengan cara Scaling data dalam rentang [0,1] atau biasa disebut normalisasi min-max"
   ]
  },
  {
   "cell_type": "code",
   "execution_count": null,
   "metadata": {
    "id": "q1dnCgUgltyM"
   },
   "outputs": [],
   "source": [
    "min_max_scaler = MinMaxScaler()\n",
    "for i in data:\n",
    "  data[[i]] = min_max_scaler.fit_transform(data[[i]])"
   ]
  },
  {
   "cell_type": "code",
   "execution_count": null,
   "metadata": {
    "colab": {
     "base_uri": "https://localhost:8080/",
     "height": 297
    },
    "id": "oJ1KXxhEKNs8",
    "outputId": "d3cb0e6f-ceb4-48d2-c9b5-00ca598db9df"
   },
   "outputs": [
    {
     "data": {
      "text/html": [
       "<div>\n",
       "<style scoped>\n",
       "    .dataframe tbody tr th:only-of-type {\n",
       "        vertical-align: middle;\n",
       "    }\n",
       "\n",
       "    .dataframe tbody tr th {\n",
       "        vertical-align: top;\n",
       "    }\n",
       "\n",
       "    .dataframe thead th {\n",
       "        text-align: right;\n",
       "    }\n",
       "</style>\n",
       "<table border=\"1\" class=\"dataframe\">\n",
       "  <thead>\n",
       "    <tr style=\"text-align: right;\">\n",
       "      <th></th>\n",
       "      <th>ph</th>\n",
       "      <th>Hardness</th>\n",
       "      <th>Solids</th>\n",
       "      <th>Chloramines</th>\n",
       "      <th>Sulfate</th>\n",
       "      <th>Conductivity</th>\n",
       "      <th>Organic_carbon</th>\n",
       "      <th>Trihalomethanes</th>\n",
       "      <th>Turbidity</th>\n",
       "      <th>Potability</th>\n",
       "    </tr>\n",
       "  </thead>\n",
       "  <tbody>\n",
       "    <tr>\n",
       "      <th>count</th>\n",
       "      <td>407.000000</td>\n",
       "      <td>407.000000</td>\n",
       "      <td>407.000000</td>\n",
       "      <td>407.000000</td>\n",
       "      <td>407.000000</td>\n",
       "      <td>407.000000</td>\n",
       "      <td>407.000000</td>\n",
       "      <td>407.000000</td>\n",
       "      <td>407.000000</td>\n",
       "      <td>407.000000</td>\n",
       "    </tr>\n",
       "    <tr>\n",
       "      <th>mean</th>\n",
       "      <td>0.507236</td>\n",
       "      <td>0.517141</td>\n",
       "      <td>0.486946</td>\n",
       "      <td>0.496679</td>\n",
       "      <td>0.503106</td>\n",
       "      <td>0.470793</td>\n",
       "      <td>0.474167</td>\n",
       "      <td>0.499505</td>\n",
       "      <td>0.497405</td>\n",
       "      <td>0.262899</td>\n",
       "    </tr>\n",
       "    <tr>\n",
       "      <th>std</th>\n",
       "      <td>0.199548</td>\n",
       "      <td>0.201598</td>\n",
       "      <td>0.193391</td>\n",
       "      <td>0.186027</td>\n",
       "      <td>0.200452</td>\n",
       "      <td>0.210188</td>\n",
       "      <td>0.187880</td>\n",
       "      <td>0.191790</td>\n",
       "      <td>0.193886</td>\n",
       "      <td>0.440750</td>\n",
       "    </tr>\n",
       "    <tr>\n",
       "      <th>min</th>\n",
       "      <td>0.000000</td>\n",
       "      <td>0.000000</td>\n",
       "      <td>0.000000</td>\n",
       "      <td>0.000000</td>\n",
       "      <td>0.000000</td>\n",
       "      <td>0.000000</td>\n",
       "      <td>0.000000</td>\n",
       "      <td>0.000000</td>\n",
       "      <td>0.000000</td>\n",
       "      <td>0.000000</td>\n",
       "    </tr>\n",
       "    <tr>\n",
       "      <th>25%</th>\n",
       "      <td>0.385907</td>\n",
       "      <td>0.392247</td>\n",
       "      <td>0.336219</td>\n",
       "      <td>0.381772</td>\n",
       "      <td>0.408024</td>\n",
       "      <td>0.319614</td>\n",
       "      <td>0.342996</td>\n",
       "      <td>0.379974</td>\n",
       "      <td>0.367757</td>\n",
       "      <td>0.000000</td>\n",
       "    </tr>\n",
       "    <tr>\n",
       "      <th>50%</th>\n",
       "      <td>0.506148</td>\n",
       "      <td>0.530244</td>\n",
       "      <td>0.475580</td>\n",
       "      <td>0.505543</td>\n",
       "      <td>0.489301</td>\n",
       "      <td>0.461523</td>\n",
       "      <td>0.472287</td>\n",
       "      <td>0.498058</td>\n",
       "      <td>0.496730</td>\n",
       "      <td>0.000000</td>\n",
       "    </tr>\n",
       "    <tr>\n",
       "      <th>75%</th>\n",
       "      <td>0.617205</td>\n",
       "      <td>0.651542</td>\n",
       "      <td>0.626889</td>\n",
       "      <td>0.621190</td>\n",
       "      <td>0.608561</td>\n",
       "      <td>0.616010</td>\n",
       "      <td>0.605586</td>\n",
       "      <td>0.628585</td>\n",
       "      <td>0.633447</td>\n",
       "      <td>1.000000</td>\n",
       "    </tr>\n",
       "    <tr>\n",
       "      <th>max</th>\n",
       "      <td>1.000000</td>\n",
       "      <td>1.000000</td>\n",
       "      <td>1.000000</td>\n",
       "      <td>1.000000</td>\n",
       "      <td>1.000000</td>\n",
       "      <td>1.000000</td>\n",
       "      <td>1.000000</td>\n",
       "      <td>1.000000</td>\n",
       "      <td>1.000000</td>\n",
       "      <td>1.000000</td>\n",
       "    </tr>\n",
       "  </tbody>\n",
       "</table>\n",
       "</div>"
      ],
      "text/plain": [
       "               ph    Hardness  ...   Turbidity  Potability\n",
       "count  407.000000  407.000000  ...  407.000000  407.000000\n",
       "mean     0.507236    0.517141  ...    0.497405    0.262899\n",
       "std      0.199548    0.201598  ...    0.193886    0.440750\n",
       "min      0.000000    0.000000  ...    0.000000    0.000000\n",
       "25%      0.385907    0.392247  ...    0.367757    0.000000\n",
       "50%      0.506148    0.530244  ...    0.496730    0.000000\n",
       "75%      0.617205    0.651542  ...    0.633447    1.000000\n",
       "max      1.000000    1.000000  ...    1.000000    1.000000\n",
       "\n",
       "[8 rows x 10 columns]"
      ]
     },
     "execution_count": 21,
     "metadata": {
      "tags": []
     },
     "output_type": "execute_result"
    }
   ],
   "source": [
    "data.describe()"
   ]
  },
  {
   "cell_type": "markdown",
   "metadata": {
    "id": "CF5FBrl0ojU5"
   },
   "source": [
    "**C. Klasifikasi KNN**"
   ]
  },
  {
   "cell_type": "code",
   "execution_count": null,
   "metadata": {
    "colab": {
     "base_uri": "https://localhost:8080/",
     "height": 204
    },
    "id": "4Kjwwogcl9ge",
    "outputId": "29de75ed-2b8d-4508-eb50-ab310ce8d0a4"
   },
   "outputs": [
    {
     "data": {
      "text/html": [
       "<div>\n",
       "<style scoped>\n",
       "    .dataframe tbody tr th:only-of-type {\n",
       "        vertical-align: middle;\n",
       "    }\n",
       "\n",
       "    .dataframe tbody tr th {\n",
       "        vertical-align: top;\n",
       "    }\n",
       "\n",
       "    .dataframe thead th {\n",
       "        text-align: right;\n",
       "    }\n",
       "</style>\n",
       "<table border=\"1\" class=\"dataframe\">\n",
       "  <thead>\n",
       "    <tr style=\"text-align: right;\">\n",
       "      <th></th>\n",
       "      <th>ph</th>\n",
       "      <th>Hardness</th>\n",
       "      <th>Solids</th>\n",
       "      <th>Chloramines</th>\n",
       "      <th>Sulfate</th>\n",
       "      <th>Conductivity</th>\n",
       "      <th>Organic_carbon</th>\n",
       "      <th>Trihalomethanes</th>\n",
       "      <th>Turbidity</th>\n",
       "    </tr>\n",
       "  </thead>\n",
       "  <tbody>\n",
       "    <tr>\n",
       "      <th>0</th>\n",
       "      <td>0.506148</td>\n",
       "      <td>0.562205</td>\n",
       "      <td>0.473573</td>\n",
       "      <td>0.527368</td>\n",
       "      <td>0.790840</td>\n",
       "      <td>0.830545</td>\n",
       "      <td>0.251395</td>\n",
       "      <td>0.760520</td>\n",
       "      <td>0.249048</td>\n",
       "    </tr>\n",
       "    <tr>\n",
       "      <th>1</th>\n",
       "      <td>0.000000</td>\n",
       "      <td>0.145084</td>\n",
       "      <td>0.417454</td>\n",
       "      <td>0.446170</td>\n",
       "      <td>0.489301</td>\n",
       "      <td>0.905076</td>\n",
       "      <td>0.527955</td>\n",
       "      <td>0.374990</td>\n",
       "      <td>0.624523</td>\n",
       "    </tr>\n",
       "    <tr>\n",
       "      <th>2</th>\n",
       "      <td>0.649492</td>\n",
       "      <td>0.669133</td>\n",
       "      <td>0.450677</td>\n",
       "      <td>0.768615</td>\n",
       "      <td>0.489301</td>\n",
       "      <td>0.450539</td>\n",
       "      <td>0.625243</td>\n",
       "      <td>0.501870</td>\n",
       "      <td>0.271710</td>\n",
       "    </tr>\n",
       "    <tr>\n",
       "      <th>3</th>\n",
       "      <td>0.681742</td>\n",
       "      <td>0.614619</td>\n",
       "      <td>0.505435</td>\n",
       "      <td>0.620063</td>\n",
       "      <td>0.700319</td>\n",
       "      <td>0.306208</td>\n",
       "      <td>0.715575</td>\n",
       "      <td>0.928386</td>\n",
       "      <td>0.655809</td>\n",
       "    </tr>\n",
       "    <tr>\n",
       "      <th>4</th>\n",
       "      <td>0.796652</td>\n",
       "      <td>0.430720</td>\n",
       "      <td>0.400548</td>\n",
       "      <td>0.435345</td>\n",
       "      <td>0.336449</td>\n",
       "      <td>0.397868</td>\n",
       "      <td>0.319293</td>\n",
       "      <td>0.069061</td>\n",
       "      <td>0.520593</td>\n",
       "    </tr>\n",
       "  </tbody>\n",
       "</table>\n",
       "</div>"
      ],
      "text/plain": [
       "         ph  Hardness    Solids  ...  Organic_carbon  Trihalomethanes  Turbidity\n",
       "0  0.506148  0.562205  0.473573  ...        0.251395         0.760520   0.249048\n",
       "1  0.000000  0.145084  0.417454  ...        0.527955         0.374990   0.624523\n",
       "2  0.649492  0.669133  0.450677  ...        0.625243         0.501870   0.271710\n",
       "3  0.681742  0.614619  0.505435  ...        0.715575         0.928386   0.655809\n",
       "4  0.796652  0.430720  0.400548  ...        0.319293         0.069061   0.520593\n",
       "\n",
       "[5 rows x 9 columns]"
      ]
     },
     "execution_count": 23,
     "metadata": {
      "tags": []
     },
     "output_type": "execute_result"
    }
   ],
   "source": [
    "# menghapus data dependen\n",
    "x = data.drop('Potability', axis=1)\n",
    "x.head()"
   ]
  },
  {
   "cell_type": "code",
   "execution_count": null,
   "metadata": {
    "colab": {
     "base_uri": "https://localhost:8080/"
    },
    "id": "o6-tmiSwpIq0",
    "outputId": "852e8eb1-b903-421e-e76a-2fbc867ead30"
   },
   "outputs": [
    {
     "data": {
      "text/plain": [
       "0    0.0\n",
       "1    0.0\n",
       "2    0.0\n",
       "3    0.0\n",
       "4    0.0\n",
       "Name: Potability, dtype: float64"
      ]
     },
     "execution_count": 24,
     "metadata": {
      "tags": []
     },
     "output_type": "execute_result"
    }
   ],
   "source": [
    "#data dependen\n",
    "y = data['Potability']\n",
    "y.head()"
   ]
  },
  {
   "cell_type": "code",
   "execution_count": null,
   "metadata": {
    "id": "BLiLfFhZpFOI"
   },
   "outputs": [],
   "source": [
    "#Membagi data menjadi 2, untuk data training dan data testing\n",
    "x_train, x_test, y_train, y_test = train_test_split(x, y, test_size = 0.25, random_state =18, stratify=y)"
   ]
  },
  {
   "cell_type": "code",
   "execution_count": null,
   "metadata": {
    "id": "udb7l-l8phNo"
   },
   "outputs": [],
   "source": [
    "# Mengaktifkan fungsi klasifikasi\n",
    "#k = 5\n",
    "klasifikasi = KNeighborsClassifier(n_neighbors=5, weights='uniform',algorithm='auto', metric='euclidean')\n"
   ]
  },
  {
   "cell_type": "code",
   "execution_count": null,
   "metadata": {
    "colab": {
     "base_uri": "https://localhost:8080/"
    },
    "id": "Ki_uOao8pjXo",
    "outputId": "730339e1-c712-4b12-ff15-07f83a6a8fee"
   },
   "outputs": [
    {
     "data": {
      "text/plain": [
       "KNeighborsClassifier(metric='euclidean')"
      ]
     },
     "execution_count": 27,
     "metadata": {
      "tags": []
     },
     "output_type": "execute_result"
    }
   ],
   "source": [
    "# Memasukkan data training pada fungsi klasifikasi\n",
    "klasifikasi.fit(x_train, y_train)"
   ]
  },
  {
   "cell_type": "code",
   "execution_count": null,
   "metadata": {
    "colab": {
     "base_uri": "https://localhost:8080/"
    },
    "id": "mPclWMwNpl4i",
    "outputId": "3e248d27-7257-4a79-94d4-2893ed9080de"
   },
   "outputs": [
    {
     "name": "stdout",
     "output_type": "stream",
     "text": [
      "[0. 0. 0. 1. 1. 0. 0. 1. 0. 0. 0. 0. 0. 0. 0. 0. 0. 0. 1. 0. 0. 0. 1. 0.\n",
      " 0. 0. 0. 0. 0. 1. 0. 0. 0. 0. 0. 0. 0. 0. 0. 0. 0. 0. 0. 0. 1. 0. 0. 0.\n",
      " 0. 0. 0. 0. 1. 0. 0. 0. 1. 0. 0. 0. 0. 0. 0. 0. 0. 0. 0. 0. 0. 0. 1. 0.\n",
      " 0. 0. 0. 0. 0. 0. 0. 0. 0. 0. 0. 0. 1. 0. 0. 0. 0. 1. 0. 0. 0. 0. 0. 0.\n",
      " 0. 0. 0. 0. 0. 0.]\n"
     ]
    }
   ],
   "source": [
    "# Menentukan hasil prediksi dari x_test\n",
    "y_pred = klasifikasi.predict(x_test)\n",
    "print(y_pred)\n"
   ]
  },
  {
   "cell_type": "code",
   "execution_count": null,
   "metadata": {
    "colab": {
     "base_uri": "https://localhost:8080/"
    },
    "id": "n6_hFDdxpph3",
    "outputId": "9a266e32-9548-41bc-ede8-9c6b90d78b98"
   },
   "outputs": [
    {
     "data": {
      "text/plain": [
       "array([[1. , 0. ],\n",
       "       [0.8, 0.2],\n",
       "       [0.6, 0.4],\n",
       "       [0.4, 0.6],\n",
       "       [0.4, 0.6],\n",
       "       [1. , 0. ],\n",
       "       [0.8, 0.2],\n",
       "       [0.4, 0.6],\n",
       "       [0.8, 0.2],\n",
       "       [1. , 0. ],\n",
       "       [1. , 0. ],\n",
       "       [1. , 0. ],\n",
       "       [0.6, 0.4],\n",
       "       [0.8, 0.2],\n",
       "       [0.8, 0.2],\n",
       "       [1. , 0. ],\n",
       "       [0.8, 0.2],\n",
       "       [0.8, 0.2],\n",
       "       [0.4, 0.6],\n",
       "       [0.8, 0.2],\n",
       "       [1. , 0. ],\n",
       "       [1. , 0. ],\n",
       "       [0.2, 0.8],\n",
       "       [0.8, 0.2],\n",
       "       [0.8, 0.2],\n",
       "       [1. , 0. ],\n",
       "       [0.8, 0.2],\n",
       "       [1. , 0. ],\n",
       "       [0.8, 0.2],\n",
       "       [0.4, 0.6],\n",
       "       [0.8, 0.2],\n",
       "       [1. , 0. ],\n",
       "       [1. , 0. ],\n",
       "       [1. , 0. ],\n",
       "       [0.8, 0.2],\n",
       "       [1. , 0. ],\n",
       "       [1. , 0. ],\n",
       "       [0.8, 0.2],\n",
       "       [0.6, 0.4],\n",
       "       [0.8, 0.2],\n",
       "       [0.8, 0.2],\n",
       "       [0.6, 0.4],\n",
       "       [0.6, 0.4],\n",
       "       [0.6, 0.4],\n",
       "       [0.4, 0.6],\n",
       "       [0.8, 0.2],\n",
       "       [1. , 0. ],\n",
       "       [0.6, 0.4],\n",
       "       [1. , 0. ],\n",
       "       [0.8, 0.2],\n",
       "       [0.8, 0.2],\n",
       "       [0.8, 0.2],\n",
       "       [0.4, 0.6],\n",
       "       [0.8, 0.2],\n",
       "       [0.8, 0.2],\n",
       "       [0.8, 0.2],\n",
       "       [0.2, 0.8],\n",
       "       [1. , 0. ],\n",
       "       [0.8, 0.2],\n",
       "       [0.8, 0.2],\n",
       "       [0.6, 0.4],\n",
       "       [0.8, 0.2],\n",
       "       [0.6, 0.4],\n",
       "       [1. , 0. ],\n",
       "       [0.8, 0.2],\n",
       "       [1. , 0. ],\n",
       "       [0.6, 0.4],\n",
       "       [1. , 0. ],\n",
       "       [0.6, 0.4],\n",
       "       [0.8, 0.2],\n",
       "       [0.4, 0.6],\n",
       "       [0.8, 0.2],\n",
       "       [0.8, 0.2],\n",
       "       [0.8, 0.2],\n",
       "       [1. , 0. ],\n",
       "       [0.8, 0.2],\n",
       "       [0.8, 0.2],\n",
       "       [0.8, 0.2],\n",
       "       [0.6, 0.4],\n",
       "       [0.8, 0.2],\n",
       "       [0.8, 0.2],\n",
       "       [0.6, 0.4],\n",
       "       [0.8, 0.2],\n",
       "       [0.6, 0.4],\n",
       "       [0.4, 0.6],\n",
       "       [0.8, 0.2],\n",
       "       [1. , 0. ],\n",
       "       [1. , 0. ],\n",
       "       [0.8, 0.2],\n",
       "       [0.4, 0.6],\n",
       "       [1. , 0. ],\n",
       "       [0.8, 0.2],\n",
       "       [0.8, 0.2],\n",
       "       [0.6, 0.4],\n",
       "       [1. , 0. ],\n",
       "       [0.6, 0.4],\n",
       "       [0.8, 0.2],\n",
       "       [1. , 0. ],\n",
       "       [1. , 0. ],\n",
       "       [0.8, 0.2],\n",
       "       [1. , 0. ],\n",
       "       [1. , 0. ]])"
      ]
     },
     "execution_count": 29,
     "metadata": {
      "tags": []
     },
     "output_type": "execute_result"
    }
   ],
   "source": [
    "# Menentukan probabilitas hasil prediksi\n",
    "klasifikasi.predict_proba(x_test)"
   ]
  },
  {
   "cell_type": "code",
   "execution_count": null,
   "metadata": {
    "colab": {
     "base_uri": "https://localhost:8080/"
    },
    "id": "FD9zptHopuA1",
    "outputId": "f3e483c7-9c23-4add-8807-a9688606261f"
   },
   "outputs": [
    {
     "name": "stdout",
     "output_type": "stream",
     "text": [
      "[[72  3]\n",
      " [18  9]]\n"
     ]
    }
   ],
   "source": [
    "print(confusion_matrix(y_test, y_pred))"
   ]
  },
  {
   "cell_type": "code",
   "execution_count": null,
   "metadata": {
    "colab": {
     "base_uri": "https://localhost:8080/"
    },
    "id": "MsIspkAzpy-q",
    "outputId": "4f670e1a-9ae9-44dd-bc52-710430971a2c"
   },
   "outputs": [
    {
     "name": "stdout",
     "output_type": "stream",
     "text": [
      "0.7941176470588235\n"
     ]
    }
   ],
   "source": [
    "#nilai akurasi\n",
    "accuracy = accuracy_score(y_test, y_pred)\n",
    "print(accuracy)"
   ]
  },
  {
   "cell_type": "code",
   "execution_count": null,
   "metadata": {
    "colab": {
     "base_uri": "https://localhost:8080/"
    },
    "id": "L8Nv94ktpwMs",
    "outputId": "7f54510b-f44e-4de8-ea2d-91313eac7295"
   },
   "outputs": [
    {
     "name": "stdout",
     "output_type": "stream",
     "text": [
      "              precision    recall  f1-score   support\n",
      "\n",
      "         0.0       0.80      0.96      0.87        75\n",
      "         1.0       0.75      0.33      0.46        27\n",
      "\n",
      "    accuracy                           0.79       102\n",
      "   macro avg       0.78      0.65      0.67       102\n",
      "weighted avg       0.79      0.79      0.76       102\n",
      "\n"
     ]
    }
   ],
   "source": [
    "print(classification_report(y_test, y_pred))"
   ]
  },
  {
   "cell_type": "markdown",
   "metadata": {
    "id": "lnPftBJ63uz_"
   },
   "source": [
    "**Kesimpulannya, akurasi pada klasifikasi air minum sebesar 79% dengan k = 5**"
   ]
  }
 ],
 "metadata": {
  "colab": {
   "collapsed_sections": [],
   "name": "Tubes Data Mining.ipynb",
   "provenance": []
  },
  "kernelspec": {
   "display_name": "Python 3 (ipykernel)",
   "language": "python",
   "name": "python3"
  },
  "language_info": {
   "codemirror_mode": {
    "name": "ipython",
    "version": 3
   },
   "file_extension": ".py",
   "mimetype": "text/x-python",
   "name": "python",
   "nbconvert_exporter": "python",
   "pygments_lexer": "ipython3",
   "version": "3.11.4"
  }
 },
 "nbformat": 4,
 "nbformat_minor": 1
}
